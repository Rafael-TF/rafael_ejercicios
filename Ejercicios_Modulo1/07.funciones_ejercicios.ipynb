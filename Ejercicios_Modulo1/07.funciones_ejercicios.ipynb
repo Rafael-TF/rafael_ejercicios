{
 "cells": [
  {
   "cell_type": "markdown",
   "id": "617e80df",
   "metadata": {},
   "source": [
    "## Ejercicios - Funciones"
   ]
  },
  {
   "cell_type": "markdown",
   "id": "9ff17fdc",
   "metadata": {},
   "source": [
    "### Ejercicio 1\n",
    "- Crea una función que retorne el minimo de 2 números, no puedes usar la función **min()**."
   ]
  },
  {
   "cell_type": "code",
   "execution_count": 1,
   "id": "b2988ac2",
   "metadata": {},
   "outputs": [
    {
     "name": "stdout",
     "output_type": "stream",
     "text": [
      "5 es menor que 8\n"
     ]
    }
   ],
   "source": [
    "def minimo(a, b):\n",
    "    \n",
    "    if a > b:\n",
    "        \n",
    "        return print(f\"{b} es menor que {a}\")\n",
    "        \n",
    "    else:\n",
    "        \n",
    "        return print(f\"{a} es menor que {b}\")\n",
    "\n",
    "minimo(5, 8)"
   ]
  },
  {
   "cell_type": "code",
   "execution_count": null,
   "id": "c1bf472d",
   "metadata": {},
   "outputs": [],
   "source": []
  },
  {
   "cell_type": "code",
   "execution_count": null,
   "id": "1a08c3b9",
   "metadata": {},
   "outputs": [],
   "source": []
  },
  {
   "cell_type": "markdown",
   "id": "299d07e1",
   "metadata": {},
   "source": [
    "### Ejercicio 2\n",
    "- Crea una función que tenga como parametro de entrada 4 números y devuelva la suma y multiplicación de dichos números en dos variables."
   ]
  },
  {
   "cell_type": "code",
   "execution_count": 3,
   "id": "29dc4315",
   "metadata": {},
   "outputs": [
    {
     "name": "stdout",
     "output_type": "stream",
     "text": [
      "El resultado de la suma es: 17\n",
      "El resultado de la multiplicación es: 210\n"
     ]
    },
    {
     "data": {
      "text/plain": [
       "(None, None)"
      ]
     },
     "execution_count": 3,
     "metadata": {},
     "output_type": "execute_result"
    }
   ],
   "source": [
    "def sum_multi(a, b, c, d):\n",
    "    \n",
    "    suma = a + b + c + d\n",
    "    multiplicacion = a * b * c * d\n",
    "    \n",
    "    return print(f\"El resultado de la suma es: {suma}\"), print(f\"El resultado de la multiplicación es: {multiplicacion}\")\n",
    "\n",
    "sum_multi(3, 5, 7, 2)"
   ]
  },
  {
   "cell_type": "code",
   "execution_count": null,
   "id": "771dd0ed",
   "metadata": {},
   "outputs": [],
   "source": []
  },
  {
   "cell_type": "code",
   "execution_count": null,
   "id": "06eb5e0e",
   "metadata": {},
   "outputs": [],
   "source": []
  },
  {
   "cell_type": "markdown",
   "id": "b33d16b5",
   "metadata": {},
   "source": [
    "### Ejercicio 3\n",
    "- Crea una función que devuelva los dos números menores (en forma de lista) de 4 números."
   ]
  },
  {
   "cell_type": "code",
   "execution_count": 6,
   "id": "413447a6",
   "metadata": {},
   "outputs": [
    {
     "data": {
      "text/plain": [
       "(1, 3)"
      ]
     },
     "execution_count": 6,
     "metadata": {},
     "output_type": "execute_result"
    }
   ],
   "source": [
    "def dos_menores(a, b, c, d):\n",
    "    \n",
    "    numeros = [a, b, c, d]\n",
    "    \n",
    "    numeros_ordenados = sorted(numeros)\n",
    "    \n",
    "    return numeros_ordenados[0], numeros_ordenados[1]\n",
    "\n",
    "dos_menores(3, 6, 1, 9)"
   ]
  },
  {
   "cell_type": "code",
   "execution_count": null,
   "id": "763659b4",
   "metadata": {},
   "outputs": [],
   "source": []
  },
  {
   "cell_type": "code",
   "execution_count": null,
   "id": "6c0e5415",
   "metadata": {},
   "outputs": [],
   "source": []
  },
  {
   "cell_type": "markdown",
   "id": "b5b102ac",
   "metadata": {},
   "source": [
    "### Ejercicio 4\n",
    "- Crea una función que devuelva los 10 números menores de una lista de 20 números aleatorios entre 10 y 50. (Recuerda importar la libreria)\n",
    "- La lista de número aleatorios se puede crear fuera o dentro de la función."
   ]
  },
  {
   "cell_type": "code",
   "execution_count": 7,
   "id": "6f33698b",
   "metadata": {},
   "outputs": [],
   "source": [
    "import random"
   ]
  },
  {
   "cell_type": "code",
   "execution_count": 16,
   "id": "77d7dacb",
   "metadata": {},
   "outputs": [
    {
     "data": {
      "text/plain": [
       "[12, 19, 27, 27, 27, 29, 30, 31, 32, 33]"
      ]
     },
     "execution_count": 16,
     "metadata": {},
     "output_type": "execute_result"
    }
   ],
   "source": [
    "def diez_menores():\n",
    "    \n",
    "    numeros = []\n",
    "    \n",
    "    for i in range(20):\n",
    "        \n",
    "        numeros.append(random.randint(10, 50)) \n",
    "        \n",
    "    numeros_ordenados = sorted(numeros)\n",
    "    \n",
    "    return numeros_ordenados[:10]\n",
    "\n",
    "resultado = diez_menores()\n",
    "\n",
    "resultado\n"
   ]
  },
  {
   "cell_type": "code",
   "execution_count": null,
   "id": "f80ee060",
   "metadata": {},
   "outputs": [],
   "source": []
  },
  {
   "cell_type": "markdown",
   "id": "af2c3e2a",
   "metadata": {},
   "source": [
    "### Ejercicio 5\n",
    "- Crea una función que realice la misma tarea que **len()**. "
   ]
  },
  {
   "cell_type": "code",
   "execution_count": 18,
   "id": "fd7e71ac",
   "metadata": {},
   "outputs": [
    {
     "data": {
      "text/plain": [
       "4"
      ]
     },
     "execution_count": 18,
     "metadata": {},
     "output_type": "execute_result"
    }
   ],
   "source": [
    "def logitud(frase):\n",
    "    \n",
    "    contador = 0\n",
    "    \n",
    "    for letra in frase:\n",
    "    \n",
    "        contador += 1\n",
    "        \n",
    "    return contador\n",
    "\n",
    "logitud(\"Hola\")        "
   ]
  },
  {
   "cell_type": "code",
   "execution_count": null,
   "id": "d0271389",
   "metadata": {},
   "outputs": [],
   "source": []
  },
  {
   "cell_type": "code",
   "execution_count": null,
   "id": "68d70a18",
   "metadata": {},
   "outputs": [],
   "source": []
  },
  {
   "cell_type": "markdown",
   "id": "16725232",
   "metadata": {},
   "source": [
    "### Ejercicio 6\n",
    "- Escribe una función que:\n",
    "- Tome como parametro de entrada una lista de números y letras\n",
    "- Convierta las letras a su forma en mayuscula.\n",
    "- Que calcule el cuadrado de los números\n",
    "- Que retorne ese resultado en una lista en el mismo orden.\n",
    "\n",
    "**Ejemplo:**\n",
    "\n",
    "**entrada = [1, 2, 3, 4, \"a\", \"b\", \"c\", \"d\"]**\n",
    "\n",
    "**salida = [1, 4, 9, 16, \"A\", \"B\", \"C\", \"D\"]**"
   ]
  },
  {
   "cell_type": "code",
   "execution_count": 19,
   "id": "f47c456d",
   "metadata": {},
   "outputs": [
    {
     "data": {
      "text/plain": [
       "[1, 4, 9, 16, 'A', 'B', 'C', 'D']"
      ]
     },
     "execution_count": 19,
     "metadata": {},
     "output_type": "execute_result"
    }
   ],
   "source": [
    "def mayus_cuadrados(entrada):\n",
    "    \n",
    "    resultado = [] \n",
    "\n",
    "    for item in entrada:\n",
    "        if isinstance(item, int): \n",
    "            resultado.append(item ** 2) \n",
    "        elif isinstance(item, str):  \n",
    "            resultado.append(item.upper())  \n",
    "        else:\n",
    "            resultado.append(item)  \n",
    "\n",
    "    return resultado\n",
    "\n",
    "entrada = [1, 2, 3, 4, \"a\", \"b\", \"c\", \"d\"]\n",
    "\n",
    "mayus_cuadrados(entrada)"
   ]
  },
  {
   "cell_type": "code",
   "execution_count": null,
   "id": "ca5a46ed",
   "metadata": {},
   "outputs": [],
   "source": []
  },
  {
   "cell_type": "code",
   "execution_count": null,
   "id": "73fc8a6f",
   "metadata": {},
   "outputs": [],
   "source": []
  },
  {
   "cell_type": "markdown",
   "id": "b4a5e1be",
   "metadata": {},
   "source": [
    "### Ejercicio 7\n",
    "\n",
    "- Crea una funcion que reciba una lista de enteros y que retorne la misma lista sin numeros repetidos y ordenados."
   ]
  },
  {
   "cell_type": "code",
   "execution_count": 20,
   "id": "1b368b6a",
   "metadata": {},
   "outputs": [
    {
     "data": {
      "text/plain": [
       "[1, 2, 3, 4, 5]"
      ]
     },
     "execution_count": 20,
     "metadata": {},
     "output_type": "execute_result"
    }
   ],
   "source": [
    "def eliminar_repetidos_y_ordenar(lista):\n",
    "   \n",
    "    lista_sin_repetidos = list(set(lista))\n",
    "    \n",
    "    lista_sin_repetidos.sort()\n",
    "    \n",
    "    return lista_sin_repetidos\n",
    "\n",
    "entrada = [4, 2, 5, 3, 1, 2, 5, 4]\n",
    "eliminar_repetidos_y_ordenar(entrada)"
   ]
  },
  {
   "cell_type": "code",
   "execution_count": null,
   "id": "65caaaf1",
   "metadata": {},
   "outputs": [],
   "source": []
  },
  {
   "cell_type": "code",
   "execution_count": null,
   "id": "9210d8ac",
   "metadata": {},
   "outputs": [],
   "source": []
  },
  {
   "cell_type": "markdown",
   "id": "46a6ff3d",
   "metadata": {},
   "source": [
    "### Ejercicio 8\n",
    "- Dada una lista de numeros enteros, retornar cuantos numeros hay con un numero par de digitos."
   ]
  },
  {
   "cell_type": "code",
   "execution_count": 22,
   "id": "d1077bbf",
   "metadata": {},
   "outputs": [
    {
     "name": "stdout",
     "output_type": "stream",
     "text": [
      "Cantidad de números con un número par de dígitos: 3\n"
     ]
    }
   ],
   "source": [
    "def contar_numeros_con_digitos_pares(lista):\n",
    "    \n",
    "    contador = 0\n",
    "    \n",
    "    for numero in lista:\n",
    "\n",
    "        if len(str(abs(numero))) % 2 == 0:\n",
    "            contador += 1\n",
    "    \n",
    "    return contador\n",
    "\n",
    "entrada = [123, 4567, 89012, 345, 6789, 12]\n",
    "resultado = contar_numeros_con_digitos_pares(entrada)\n",
    "\n",
    "print(\"Cantidad de números con un número par de dígitos:\", resultado)"
   ]
  },
  {
   "cell_type": "code",
   "execution_count": null,
   "id": "dfe055e2",
   "metadata": {},
   "outputs": [],
   "source": []
  },
  {
   "cell_type": "code",
   "execution_count": null,
   "id": "ccf746a3",
   "metadata": {},
   "outputs": [],
   "source": []
  },
  {
   "cell_type": "code",
   "execution_count": null,
   "id": "f3a41a72-ec75-4125-a921-435af6484930",
   "metadata": {},
   "outputs": [],
   "source": [
    "##############################################################################################################################"
   ]
  }
 ],
 "metadata": {
  "kernelspec": {
   "display_name": "Python 3 (ipykernel)",
   "language": "python",
   "name": "python3"
  },
  "language_info": {
   "codemirror_mode": {
    "name": "ipython",
    "version": 3
   },
   "file_extension": ".py",
   "mimetype": "text/x-python",
   "name": "python",
   "nbconvert_exporter": "python",
   "pygments_lexer": "ipython3",
   "version": "3.13.1"
  }
 },
 "nbformat": 4,
 "nbformat_minor": 5
}
