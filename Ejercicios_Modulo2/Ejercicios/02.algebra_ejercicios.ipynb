{
 "cells": [
  {
   "cell_type": "markdown",
   "id": "1ace7bee-b24c-400e-9d93-7a84eec5d2e1",
   "metadata": {},
   "source": [
    "## Ejercicios - Algebra"
   ]
  },
  {
   "cell_type": "code",
   "execution_count": 1,
   "id": "2ab86bce-70ec-4791-92e0-5062aa3b751c",
   "metadata": {
    "tags": []
   },
   "outputs": [],
   "source": [
    "import numpy as np\n",
    "\n",
    "import random"
   ]
  },
  {
   "cell_type": "code",
   "execution_count": 2,
   "id": "0baa6b5f-63c7-4738-a9ba-f12c6636a4ec",
   "metadata": {
    "tags": []
   },
   "outputs": [
    {
     "name": "stdout",
     "output_type": "stream",
     "text": [
      "numpy==2.2.0\n"
     ]
    }
   ],
   "source": [
    "# Versiones\n",
    "print(f\"numpy=={np.__version__}\")"
   ]
  },
  {
   "cell_type": "markdown",
   "id": "9cad9f27-4d1e-429d-b0ac-fa89e8490ef2",
   "metadata": {},
   "source": [
    "### Ejercicio 1:\n",
    "- Usando la librería _**random**_, genera una matriz de $4x4$ de números enteros del 1 al 100, usando bucles.\n",
    "- El resultado debe ser un _**np.array()**_."
   ]
  },
  {
   "cell_type": "code",
   "execution_count": 3,
   "id": "b4eb665c-fffe-4448-8048-0bdba9380795",
   "metadata": {
    "tags": []
   },
   "outputs": [
    {
     "name": "stdout",
     "output_type": "stream",
     "text": [
      "[[1 2 3]\n",
      " [1 2 3]]\n",
      "(2, 3)\n"
     ]
    }
   ],
   "source": [
    "matriz = np.array([[1, 2, 3], [1, 2, 3]])\n",
    "print(matriz)\n",
    "print(matriz.shape) # se pide (4,4)\n",
    "# Uso de bucles for para crear una lista en python y pasarla a array de numpy"
   ]
  },
  {
   "cell_type": "code",
   "execution_count": 14,
   "id": "118c8228-d2bd-42de-933a-87eec7cf8352",
   "metadata": {},
   "outputs": [
    {
     "name": "stdout",
     "output_type": "stream",
     "text": [
      "[[34 90 98 22]\n",
      " [ 1 61  1 54]\n",
      " [50  9 10  8]\n",
      " [28  3 83 30]]\n",
      "(4, 4)\n"
     ]
    }
   ],
   "source": [
    "lista = []\n",
    "\n",
    "for i in range(4):\n",
    "    \n",
    "    fila = [random.randint(1, 100) for i in range(4)]\n",
    "    \n",
    "    lista.append(fila)\n",
    "    \n",
    "    \n",
    "matriz = np.array(lista)\n",
    "    \n",
    "print(matriz)\n",
    "print(matriz.shape)\n"
   ]
  },
  {
   "cell_type": "code",
   "execution_count": null,
   "id": "a7ecb18b-aff0-4806-9ae2-84798f8c453b",
   "metadata": {},
   "outputs": [],
   "source": []
  },
  {
   "cell_type": "markdown",
   "id": "110e057c-629b-4991-a908-eb7677bfa647",
   "metadata": {},
   "source": [
    "### Ejercicio 2:\n",
    "\n",
    "- Define una función que tome como parámetro de entrada 2 valores enteros ($m$, $n$).\n",
    "- La función debe generar, usando la librería _**random**_, una matriz de $mxn$ de números enteros del 1 al 100, usando bucles.\n",
    "- La función debe retornar la matriz, la matriz debe ser un _**np.array()**_."
   ]
  },
  {
   "cell_type": "code",
   "execution_count": 5,
   "id": "71ae4ac4-8dae-4b9a-80ec-e67be3509e13",
   "metadata": {},
   "outputs": [
    {
     "name": "stdout",
     "output_type": "stream",
     "text": [
      "[[1 2 3]\n",
      " [1 2 3]]\n",
      "(2, 3)\n"
     ]
    }
   ],
   "source": [
    "matriz = np.array([[1, 2, 3], [1, 2, 3]])\n",
    "print(matriz)\n",
    "print(matriz.shape) # se pide (m, n)\n",
    "# Uso de bucles for para crear una lista en python y pasarla a array de numpy"
   ]
  },
  {
   "cell_type": "code",
   "execution_count": 18,
   "id": "34f03c12-274f-4fb0-ad23-a9bb28856bfc",
   "metadata": {},
   "outputs": [
    {
     "name": "stdout",
     "output_type": "stream",
     "text": [
      "[[95 89  9]\n",
      " [69 90 26]\n",
      " [73 48 61]\n",
      " [99  1 87]\n",
      " [23 84  3]]\n"
     ]
    }
   ],
   "source": [
    "lista = []\n",
    "\n",
    "def generar_matriz(m, n):\n",
    "    \n",
    "    for i in range(m):\n",
    "        \n",
    "        fila = [random.randint(1, 100) for i in range(n)]\n",
    "        \n",
    "        lista.append(fila)  \n",
    "    \n",
    "    return np.array(lista)\n",
    "        \n",
    "matriz = generar_matriz(5, 3)\n",
    "\n",
    "print(matriz)\n"
   ]
  },
  {
   "cell_type": "code",
   "execution_count": 6,
   "id": "268b9042-48df-44fa-a28a-75a32febe065",
   "metadata": {
    "tags": []
   },
   "outputs": [],
   "source": [
    "##############################################################################################################################"
   ]
  }
 ],
 "metadata": {
  "kernelspec": {
   "display_name": "venv",
   "language": "python",
   "name": "python3"
  },
  "language_info": {
   "codemirror_mode": {
    "name": "ipython",
    "version": 3
   },
   "file_extension": ".py",
   "mimetype": "text/x-python",
   "name": "python",
   "nbconvert_exporter": "python",
   "pygments_lexer": "ipython3",
   "version": "3.12.7"
  }
 },
 "nbformat": 4,
 "nbformat_minor": 5
}
