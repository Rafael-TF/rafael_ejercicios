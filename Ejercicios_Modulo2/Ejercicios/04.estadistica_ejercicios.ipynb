{
 "cells": [
  {
   "cell_type": "markdown",
   "id": "136d8ea3",
   "metadata": {},
   "source": [
    "## Estadística  Ejercicios"
   ]
  },
  {
   "cell_type": "code",
   "execution_count": 1,
   "id": "7320a211",
   "metadata": {},
   "outputs": [],
   "source": [
    "import numpy as np\n",
    "import matplotlib\n",
    "import matplotlib.pyplot as plt\n",
    "import scipy\n",
    "from scipy import stats\n",
    "\n",
    "import random\n",
    "import pickle as pkl"
   ]
  },
  {
   "cell_type": "code",
   "execution_count": 2,
   "id": "72b73a62-1b81-4902-a8ee-c25425a2169f",
   "metadata": {
    "tags": []
   },
   "outputs": [
    {
     "name": "stdout",
     "output_type": "stream",
     "text": [
      "numpy==1.26.4\n",
      "matplotlib==3.10.0\n",
      "scipy==1.14.1\n"
     ]
    }
   ],
   "source": [
    "# Versiones\n",
    "\n",
    "print(f\"numpy=={np.__version__}\")\n",
    "print(f\"matplotlib=={matplotlib.__version__}\")\n",
    "print(f\"scipy=={scipy.__version__}\")"
   ]
  },
  {
   "cell_type": "code",
   "execution_count": 3,
   "id": "2dbace1d",
   "metadata": {},
   "outputs": [],
   "source": [
    "with open(\"../Data/FUELCONSUMPTION_CITY.pkl\", \"br\") as f:\n",
    "    fuel_city = pkl.load(f)\n",
    "    \n",
    "with open(\"../Data/FUELCONSUMPTION_HWY.pkl\", \"br\") as f:\n",
    "    fuel_hwy = pkl.load(f)"
   ]
  },
  {
   "cell_type": "code",
   "execution_count": null,
   "id": "c01b1889",
   "metadata": {},
   "outputs": [],
   "source": [
    "fuel_city # Gasto de combustible en la ciudad"
   ]
  },
  {
   "cell_type": "code",
   "execution_count": null,
   "id": "5501bbc7",
   "metadata": {},
   "outputs": [],
   "source": [
    "fuel_hwy # Gasto de combustible en la autovía"
   ]
  },
  {
   "cell_type": "markdown",
   "id": "9c81ca43",
   "metadata": {},
   "source": [
    "### Ejercicio 01:\n",
    "- Define una función que tome como entrada un array y retorne la varianza. Apóyate en la siguiente fórmula:\n",
    "$$ \\mathbf{S^2} = \\frac{1}{n} \\sum_{i=1}^{n} (x_{i}^{2}- \\overline{x}^2)$$\n",
    "\n",
    "- Comprueba que funciona correctamente comparándola con _**np.var()**_."
   ]
  },
  {
   "cell_type": "code",
   "execution_count": 7,
   "id": "63287467",
   "metadata": {},
   "outputs": [],
   "source": [
    "fuel_ciudad = np.array(fuel_city)\n",
    "\n",
    "def calcular_varianza(array):\n",
    "    # Paso 1: Tamaño del array\n",
    "    n = len(array)\n",
    "    \n",
    "    # Paso 2: Media de los datos\n",
    "    media = np.mean(array)\n",
    "    \n",
    "    # Paso 3: Suma de las diferencias al cuadrado (según la fórmula)\n",
    "    suma = np.sum(array**2) - n * (media**2)\n",
    "    \n",
    "    # Paso 4: Aplicar la fórmula\n",
    "    varianza = suma / n\n",
    "    \n",
    "    return varianza"
   ]
  },
  {
   "cell_type": "code",
   "execution_count": 8,
   "id": "c3ede09c",
   "metadata": {},
   "outputs": [
    {
     "name": "stdout",
     "output_type": "stream",
     "text": [
      "La varianza usando np.var() es: 16.80451468569305\n",
      "La varianza calculandolo a traves de la función calcular_varianza es: 16.80451468569308\n"
     ]
    }
   ],
   "source": [
    "varianza_np = np.var(fuel_ciudad)\n",
    "\n",
    "print(f\"La varianza usando np.var() es: {varianza_np}\")\n",
    "\n",
    "print(f\"La varianza calculandolo a traves de la función calcular_varianza es: {calcular_varianza(fuel_ciudad)}\")"
   ]
  },
  {
   "cell_type": "code",
   "execution_count": null,
   "id": "95420d3b",
   "metadata": {},
   "outputs": [],
   "source": []
  },
  {
   "cell_type": "markdown",
   "id": "1c505847",
   "metadata": {},
   "source": [
    "### Ejercicio 02:\n",
    "- Define una función que tome como entrada un array y retorne la desviación estándar. Apóyate en la siguiente fórmula:\n",
    "\n",
    "$$ \\mathbf{S} = \\sigma = \\sqrt{\\frac{1}{n} \\sum_{i=1}^{n} x_{i}^{2}- \\overline{x}^2}$$\n",
    "\n",
    "- Comprueba que funciona correctamente comprobándola con _**np.std()**_."
   ]
  },
  {
   "cell_type": "code",
   "execution_count": 12,
   "id": "1213ab63",
   "metadata": {},
   "outputs": [],
   "source": [
    "def calcular_desviacion_estandar(array):\n",
    "    \n",
    "    # Paso 1: Tamaño del array\n",
    "    n = len(array)\n",
    "    \n",
    "    # Paso 2: Suma de los elementos\n",
    "    suma_elementos = np.sum(array)\n",
    "    \n",
    "    # Paso 3: Suma de los cuadrados\n",
    "    suma_cuadrados = np.sum(array**2)\n",
    "    \n",
    "    # Paso 4: Calcular la varianza usando la fórmula correcta\n",
    "    varianza = (suma_cuadrados / n) - (suma_elementos / n)**2\n",
    "    \n",
    "    desviacion_estandar = np.sqrt(varianza)\n",
    "    \n",
    "    return desviacion_estandar\n",
    "    \n",
    "    "
   ]
  },
  {
   "cell_type": "code",
   "execution_count": 13,
   "id": "586efd5b",
   "metadata": {},
   "outputs": [
    {
     "name": "stdout",
     "output_type": "stream",
     "text": [
      "La desviación estandar usando np.std() es: 4.099331004651009\n",
      "La desviación estandar a traves de la función calcular_desviacion_estandar() es: 4.099331004651012\n"
     ]
    }
   ],
   "source": [
    "desviacion_estandar_numpy = np.std(fuel_ciudad)\n",
    "\n",
    "print(f\"La desviación estandar usando np.std() es: {desviacion_estandar_numpy}\")\n",
    "\n",
    "print(f\"La desviación estandar a traves de la función calcular_desviacion_estandar() es: {calcular_desviacion_estandar(fuel_ciudad)}\")"
   ]
  },
  {
   "cell_type": "code",
   "execution_count": null,
   "id": "f6bc5089",
   "metadata": {},
   "outputs": [],
   "source": []
  },
  {
   "cell_type": "markdown",
   "id": "d9ae7ca8",
   "metadata": {},
   "source": [
    "### Ejercicio 03:\n",
    "- Define una función que tome como parámetro un array y retorne los siguientes estadísticos en forma de diccionario:\n",
    "    - Mínimo\n",
    "    - Máximo\n",
    "    - Media\n",
    "    - Cuartiles Q1, Q2 (mediana) y Q3\n",
    "    - Rango intercuartil\n",
    "    - Desviación estándar\n",
    "- Prueba la función con los arrays **fuel_city** y **fuel_hwy**."
   ]
  },
  {
   "cell_type": "code",
   "execution_count": 25,
   "id": "19a1c1cf",
   "metadata": {},
   "outputs": [],
   "source": [
    "def calcular_estadisticos(array):\n",
    "    \n",
    "    # Cálculo de los estadísticos\n",
    "    minimo = np.min(array)\n",
    "    maximo = np.max(array)\n",
    "    media = np.mean(array)\n",
    "    mediana = np.median(array)\n",
    "    q1 = np.percentile(array, 25)\n",
    "    q3 = np.percentile(array, 75)\n",
    "    rango_intercuartil = q3 - q1\n",
    "    desviacion_estandar = np.std(array)\n",
    "    \n",
    "    # Diccionario con los resultados\n",
    "    estadisticos = {\n",
    "        \"Mínimo\": minimo,\n",
    "        \"Máximo\": maximo,\n",
    "        \"Media\": media,\n",
    "        \"Mediana (Q2)\": mediana,\n",
    "        \"Q1\": q1,\n",
    "        \"Q3\": q3,\n",
    "        \"Rango Intercuartil\": rango_intercuartil,\n",
    "        \"Desviación Estándar\": desviacion_estandar\n",
    "    }\n",
    "    \n",
    "    return estadisticos"
   ]
  },
  {
   "cell_type": "code",
   "execution_count": 27,
   "id": "f4968122",
   "metadata": {},
   "outputs": [
    {
     "name": "stdout",
     "output_type": "stream",
     "text": [
      "Los datos estadísticos de la ciudad son: {'Mínimo': 4.6, 'Máximo': 30.2, 'Media': 13.296532333645736, 'Mediana (Q2)': 12.6, 'Q1': 10.25, 'Q3': 15.55, 'Rango Intercuartil': 5.300000000000001, 'Desviación Estándar': 4.099331004651009}\n",
      "Los datos estadísticos de la carretera son: {'Mínimo': 4.9, 'Máximo': 20.5, 'Media': 9.474601686972822, 'Mediana (Q2)': 8.8, 'Q1': 7.5, 'Q3': 10.850000000000001, 'Rango Intercuartil': 3.3500000000000014, 'Desviación Estándar': 2.793200625370099}\n"
     ]
    }
   ],
   "source": [
    "estadisticas_fuel_city= calcular_estadisticos(fuel_ciudad)\n",
    "\n",
    "fuel_carretera = np.array(fuel_hwy)\n",
    "\n",
    "estadisticas_fuel_carretera = calcular_estadisticos(fuel_hwy)\n",
    "\n",
    "print(f\"Los datos estadísticos de la ciudad son: {estadisticas_fuel_city}\")\n",
    "print(f\"Los datos estadísticos de la carretera son: {estadisticas_fuel_carretera}\")"
   ]
  },
  {
   "cell_type": "markdown",
   "id": "0345cc95",
   "metadata": {},
   "source": [
    "### Ejercicio 04:\n",
    "- Define una función que toma un array como entrada, y retorna el mismo array sin los outliers.\n",
    "- Utiliza la **Puntuación Z** para el filtrado de valores atípicos.\n",
    "- Prueba la función con los arrays _**fuel_city**_ y _**fuel_hwy**_, y calcula qué porcentaje de datos se ha conservado tras el filtrado de outliers para cada caso."
   ]
  },
  {
   "cell_type": "code",
   "execution_count": 33,
   "id": "34c3dc41",
   "metadata": {},
   "outputs": [],
   "source": [
    "def filtrar_outliers(array, z = 3):\n",
    "    \n",
    "    # Calculamos media y std\n",
    "    mean = np.mean(array)\n",
    "    std = np.std(array)\n",
    "    \n",
    "    # Calculamos los limites laterales (𝜇 ± z*𝜎)\n",
    "    lim_l = mean - z*std\n",
    "    lim_r = mean + z*std\n",
    "    \n",
    "    # Filtramos los elementos del array, los que esten fuera de los limites laterales.\n",
    "    outliers = [elem for elem in array if elem < lim_l or elem > lim_r]\n",
    "    \n",
    "    # Filtramos los elementos del array, los que no pertenezcan a outliers.\n",
    "    normal_data = [elem for elem in array if elem not in outliers]\n",
    "    \n",
    "    # retornar array_filtrado\n",
    "    return np.array(normal_data)"
   ]
  },
  {
   "cell_type": "code",
   "execution_count": 34,
   "id": "f33af770",
   "metadata": {},
   "outputs": [
    {
     "name": "stdout",
     "output_type": "stream",
     "text": [
      "Fuel Ciudad: [ 9.9 11.2  6.  ... 13.4 12.9 14.9]\n",
      "Fuel Carretera: [ 6.7  7.7  5.8 ...  9.8  9.3 10.2]\n"
     ]
    }
   ],
   "source": [
    "fuel_city_filtrado = filtrar_outliers(fuel_ciudad)\n",
    "fuel_hwy_filtrado = filtrar_outliers(fuel_carretera)\n",
    "\n",
    "print(\"Fuel Ciudad:\", fuel_city_filtrado)\n",
    "print(\"Fuel Carretera:\", fuel_hwy_filtrado)"
   ]
  },
  {
   "cell_type": "code",
   "execution_count": null,
   "id": "f570b5cc",
   "metadata": {
    "scrolled": true,
    "tags": []
   },
   "outputs": [],
   "source": []
  },
  {
   "cell_type": "markdown",
   "id": "20871489",
   "metadata": {},
   "source": [
    "### Ejercicio 05:\n",
    "- Repite el ejercicio 4 usando la **Valla de Tukey** para el filtrado de outliers."
   ]
  },
  {
   "cell_type": "code",
   "execution_count": null,
   "id": "bb1ff5ae",
   "metadata": {},
   "outputs": [],
   "source": []
  },
  {
   "cell_type": "code",
   "execution_count": null,
   "id": "71f76f16",
   "metadata": {},
   "outputs": [],
   "source": []
  },
  {
   "cell_type": "code",
   "execution_count": null,
   "id": "e4d3f070",
   "metadata": {},
   "outputs": [],
   "source": []
  },
  {
   "cell_type": "markdown",
   "id": "d620e448",
   "metadata": {},
   "source": [
    "### Ejercicio 06:\n",
    "- Define una función que tome como parámetro un array y dibuje un plot. El plot debe tener:\n",
    "    - La distribución de los datos del array como un histograma de color verde pastel.\n",
    "    - Una línea vertical de color rojo que represente el promedio.\n",
    "    - Una línea vertical de color dorado que represente la mediana.\n",
    "    - Dos líneas verticales discontinuas de color gris claro que representen $-z$ y $z$.\n",
    "    - Dos líneas verticales discontinuas de color gris oscuro que representen $-3z$ y $3z$.\n",
    "    - Los outliers se tienen que marcar con un color naranja chillón.\n",
    "    \n",
    "- Aprovecha las funciones del ejercicio 1 y del ejercicio 3 para obtener los estadísticos necesarios y filtrar los outliers.\n",
    "- Guiate por los notebooks de teoría para cambiar el color de las gráficas y hacer las lineas verticales."
   ]
  },
  {
   "cell_type": "code",
   "execution_count": null,
   "id": "2822ce59",
   "metadata": {},
   "outputs": [],
   "source": []
  },
  {
   "cell_type": "code",
   "execution_count": null,
   "id": "375daf80",
   "metadata": {},
   "outputs": [],
   "source": []
  },
  {
   "cell_type": "code",
   "execution_count": null,
   "id": "8da02181",
   "metadata": {},
   "outputs": [],
   "source": []
  },
  {
   "cell_type": "markdown",
   "id": "92312187",
   "metadata": {},
   "source": [
    "### Ejercicio 07:\n",
    "- Define una función que estandarice los datos de un array usando la siguiente fórmula:\n",
    "\n",
    "$$\n",
    "z = \\frac{x_{i} - \\overline{x}}{\\sigma_{x}} = \\frac{x_{i} - mean(x)}{std(x)}\n",
    "$$\n",
    "\n",
    "- Prueba estandarizar un array y hacer un plot usando la función del ejercicio anterior. ¿Qué diferencias ves?"
   ]
  },
  {
   "cell_type": "code",
   "execution_count": null,
   "id": "2c20293e",
   "metadata": {},
   "outputs": [],
   "source": []
  },
  {
   "cell_type": "code",
   "execution_count": null,
   "id": "e27c2a4b",
   "metadata": {},
   "outputs": [],
   "source": []
  },
  {
   "cell_type": "code",
   "execution_count": null,
   "id": "08f390b7",
   "metadata": {
    "scrolled": true
   },
   "outputs": [],
   "source": []
  },
  {
   "cell_type": "markdown",
   "id": "c58e07c9",
   "metadata": {},
   "source": [
    "### Ejercicio 08:\n",
    "- Aplica una transformación de logaritmo neperiano (_**np.log**_) a los datos de **fuel_city** y **fuel_hwy** y vuelve a probar a usar la función del ejercicio 6.\n",
    "- ¿Cómo son ahora las distribuciones?\n",
    "- ¿Qué ocurre con los outliers?"
   ]
  },
  {
   "cell_type": "code",
   "execution_count": null,
   "id": "d9e078e6",
   "metadata": {},
   "outputs": [],
   "source": []
  },
  {
   "cell_type": "code",
   "execution_count": null,
   "id": "8de23669",
   "metadata": {},
   "outputs": [],
   "source": []
  },
  {
   "cell_type": "code",
   "execution_count": null,
   "id": "7ae349fa",
   "metadata": {},
   "outputs": [],
   "source": []
  },
  {
   "cell_type": "code",
   "execution_count": null,
   "id": "d6f0ddb4",
   "metadata": {},
   "outputs": [],
   "source": []
  },
  {
   "cell_type": "markdown",
   "id": "18fbbe24",
   "metadata": {},
   "source": [
    "### Ejercicio 09:\n",
    "- Defina una función que calcule la correlación entre dos arrays. Apoyate en las siguientes fórmulas:\n",
    "\n",
    "$$\n",
    "\\Large Cov(X, Y) = \\frac{\\sum_{i=1}^{n}(x_{i} - \\bar{x})(y_{i} - \\bar{y})}{n}\\\\\n",
    "$$\n",
    "\n",
    "<br>\n",
    "\n",
    "$$\n",
    "\\Large \\rho = \\frac{Cov(X, Y)}{\\sigma_{x}\\sigma_{y}}\n",
    "$$\n",
    "\n",
    "- Usa la función para calcular la correlación entre **fuel_city** y **fuel_hwy**.\n",
    "- Comprueba que funciona correctamente contrastando con el resultado de la función _**stats.pearsonr()**_."
   ]
  },
  {
   "cell_type": "code",
   "execution_count": null,
   "id": "ff824254",
   "metadata": {},
   "outputs": [],
   "source": []
  },
  {
   "cell_type": "code",
   "execution_count": null,
   "id": "614ad95d",
   "metadata": {},
   "outputs": [],
   "source": []
  },
  {
   "cell_type": "code",
   "execution_count": null,
   "id": "52292226",
   "metadata": {},
   "outputs": [],
   "source": []
  },
  {
   "cell_type": "markdown",
   "id": "43b83070",
   "metadata": {},
   "source": [
    "### Ejercicio 10:\n",
    "- Elige un array y toma 50 elementos aleatorios. Calcula las estadísticas para ese nuevo conjunto de datos.\n",
    "- ¿Son similares estos resultados a los obtenidos de la población total?"
   ]
  },
  {
   "cell_type": "code",
   "execution_count": null,
   "id": "d4f15b0d",
   "metadata": {},
   "outputs": [],
   "source": []
  },
  {
   "cell_type": "code",
   "execution_count": null,
   "id": "a87da64b",
   "metadata": {},
   "outputs": [],
   "source": []
  },
  {
   "cell_type": "markdown",
   "id": "9e6aec89",
   "metadata": {},
   "source": [
    "### Ejercicio 11:\n",
    "- Repite el ejercicio anterior, esta vez creando 5 conjuntos de 50 elementos aleatorios.\n",
    "    - Calcula las estadísticas para cada conjunto de 50 elementos, guarda estos datos.\n",
    "    - Calcula las estadísticas de los resultados anteriores.\n",
    "    - ¿Son similares estos datos con los obtenidos de la población total?\n",
    "    - Prueba hacerlo creando 100 conjuntos de 50 elementos esta vez."
   ]
  },
  {
   "cell_type": "code",
   "execution_count": null,
   "id": "d8da7d8b",
   "metadata": {},
   "outputs": [],
   "source": []
  },
  {
   "cell_type": "code",
   "execution_count": null,
   "id": "abf3e30d",
   "metadata": {},
   "outputs": [],
   "source": []
  },
  {
   "cell_type": "code",
   "execution_count": null,
   "id": "281e60f9",
   "metadata": {},
   "outputs": [],
   "source": []
  },
  {
   "cell_type": "code",
   "execution_count": null,
   "id": "e8fb1bf2",
   "metadata": {},
   "outputs": [],
   "source": []
  },
  {
   "cell_type": "markdown",
   "id": "df5757a4-047e-4a49-ab47-1e53acf29dac",
   "metadata": {},
   "source": [
    "### Ejercicio 12:\n",
    "- Realiza un contraste de hipótesis y comprueba si se gasta más combustible en la ciudad que en la autovía.\n",
    "    - **fuel_city**: gasto en ciudad\n",
    "    - **fuel_hwy**: gasto en autovía\n",
    "    - $H_0$: el gasto de combustible en la ciudad es igual o menor al gasto en la autovía.\n",
    "    - $H_1$: el gasto de combustible en la ciudad es mayor al gasto en la autovía.\n",
    "    \n",
    "_**Pista**: hay que aplicar una prueba **t de Student** para **muestras pareadas** `stats.ttest_rel()`, o una prueba **Wilcoxon** para **muestras pareadas** `stats.wilcoxon()`, dependiendo de si se cumplen los supuestos de normalidad y homogeneidad de varianzas. Pueden especificar el parámetro `alternative` con el argumento `\"greater\"` para un contraste de tipo `a>b`._"
   ]
  },
  {
   "cell_type": "code",
   "execution_count": null,
   "id": "b234845d",
   "metadata": {},
   "outputs": [],
   "source": []
  },
  {
   "cell_type": "code",
   "execution_count": null,
   "id": "630480b4",
   "metadata": {},
   "outputs": [],
   "source": []
  },
  {
   "cell_type": "code",
   "execution_count": null,
   "id": "d5ef88d3",
   "metadata": {},
   "outputs": [],
   "source": []
  },
  {
   "cell_type": "code",
   "execution_count": null,
   "id": "b8339f79",
   "metadata": {},
   "outputs": [],
   "source": []
  },
  {
   "cell_type": "code",
   "execution_count": null,
   "id": "767e21c0",
   "metadata": {},
   "outputs": [],
   "source": []
  },
  {
   "cell_type": "code",
   "execution_count": null,
   "id": "6dcfe91f",
   "metadata": {},
   "outputs": [],
   "source": []
  },
  {
   "cell_type": "code",
   "execution_count": null,
   "id": "8efa5c5d",
   "metadata": {
    "tags": []
   },
   "outputs": [],
   "source": [
    "##############################################################################################################################"
   ]
  }
 ],
 "metadata": {
  "kernelspec": {
   "display_name": "Python 3 (ipykernel)",
   "language": "python",
   "name": "python3"
  },
  "language_info": {
   "codemirror_mode": {
    "name": "ipython",
    "version": 3
   },
   "file_extension": ".py",
   "mimetype": "text/x-python",
   "name": "python",
   "nbconvert_exporter": "python",
   "pygments_lexer": "ipython3",
   "version": "3.12.7"
  }
 },
 "nbformat": 4,
 "nbformat_minor": 5
}
