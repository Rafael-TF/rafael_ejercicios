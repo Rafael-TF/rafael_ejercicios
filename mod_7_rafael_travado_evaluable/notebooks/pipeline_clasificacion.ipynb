{
 "cells": [
  {
   "cell_type": "code",
   "execution_count": 1,
   "metadata": {},
   "outputs": [],
   "source": [
    "import pandas as pd\n",
    "import numpy as np\n",
    "import seaborn as sns\n",
    "import joblib\n",
    "from sklearn.model_selection import train_test_split, cross_val_score\n",
    "from sklearn.preprocessing import OneHotEncoder, StandardScaler\n",
    "from sklearn.pipeline import make_pipeline\n",
    "from sklearn.compose import make_column_transformer\n",
    "from sklearn.ensemble import RandomForestClassifier, GradientBoostingClassifier\n",
    "from sklearn.svm import SVC\n",
    "from sklearn.metrics import accuracy_score, classification_report, confusion_matrix\n",
    "\n",
    "# =================== Cargar Datos ===================\n",
    "df = sns.load_dataset(\"diamonds\")\n",
    "\n",
    "# Convertir variables categóricas a tipo string\n",
    "categorical_cols = ['color', 'clarity']\n",
    "df[categorical_cols] = df[categorical_cols].astype(str)\n",
    "\n",
    "# Separar características y variable objetivo\n",
    "X = df.drop(columns=[\"cut\"])  # 'cut' es lo que queremos predecir\n",
    "y = df[\"cut\"]"
   ]
  },
  {
   "cell_type": "code",
   "execution_count": 2,
   "metadata": {},
   "outputs": [],
   "source": [
    "# =================== Preprocesamiento ===================\n",
    "categorical_pipeline = make_pipeline(\n",
    "    OneHotEncoder(handle_unknown='ignore')\n",
    ")\n",
    "numerical_pipeline = make_pipeline(\n",
    "    StandardScaler()\n",
    ")\n",
    "\n",
    "column_transformer = make_column_transformer(\n",
    "    (numerical_pipeline, [\"carat\", \"depth\", \"table\", \"x\", \"y\", \"z\", \"price\"]),\n",
    "    (categorical_pipeline, [\"color\", \"clarity\"])\n",
    ")\n",
    "\n",
    "# Separar en entrenamiento y prueba\n",
    "X_train, X_test, y_train, y_test = train_test_split(X, y, test_size=0.2, random_state=42, stratify=y)"
   ]
  },
  {
   "cell_type": "code",
   "execution_count": 3,
   "metadata": {},
   "outputs": [
    {
     "name": "stdout",
     "output_type": "stream",
     "text": [
      "Entrenando Random Forest...\n",
      "Precisión de Random Forest: 0.7678\n",
      "              precision    recall  f1-score   support\n",
      "\n",
      "        Fair       0.90      0.84      0.87       322\n",
      "        Good       0.77      0.68      0.72       981\n",
      "       Ideal       0.82      0.92      0.87      4310\n",
      "     Premium       0.73      0.81      0.77      2758\n",
      "   Very Good       0.67      0.47      0.56      2417\n",
      "\n",
      "    accuracy                           0.77     10788\n",
      "   macro avg       0.78      0.74      0.76     10788\n",
      "weighted avg       0.76      0.77      0.76     10788\n",
      "\n",
      "Entrenando Gradient Boosting...\n",
      "Precisión de Gradient Boosting: 0.7578\n",
      "              precision    recall  f1-score   support\n",
      "\n",
      "        Fair       0.89      0.90      0.89       322\n",
      "        Good       0.84      0.66      0.74       981\n",
      "       Ideal       0.82      0.92      0.87      4310\n",
      "     Premium       0.67      0.85      0.75      2758\n",
      "   Very Good       0.69      0.39      0.50      2417\n",
      "\n",
      "    accuracy                           0.76     10788\n",
      "   macro avg       0.78      0.74      0.75     10788\n",
      "weighted avg       0.76      0.76      0.74     10788\n",
      "\n",
      "Entrenando SVM...\n",
      "Precisión de SVM: 0.6712\n",
      "              precision    recall  f1-score   support\n",
      "\n",
      "        Fair       0.77      0.53      0.62       322\n",
      "        Good       0.59      0.07      0.12       981\n",
      "       Ideal       0.71      0.91      0.80      4310\n",
      "     Premium       0.73      0.68      0.70      2758\n",
      "   Very Good       0.50      0.49      0.50      2417\n",
      "\n",
      "    accuracy                           0.67     10788\n",
      "   macro avg       0.66      0.54      0.55     10788\n",
      "weighted avg       0.66      0.67      0.64     10788\n",
      "\n"
     ]
    }
   ],
   "source": [
    "# =================== Entrenar Modelos ===================\n",
    "modelos = {\n",
    "    \"Random Forest\": make_pipeline(column_transformer, RandomForestClassifier(n_estimators=100, random_state=42)),\n",
    "    \"Gradient Boosting\": make_pipeline(column_transformer, GradientBoostingClassifier(n_estimators=100, random_state=42)),\n",
    "    \"SVM\": make_pipeline(column_transformer, SVC(kernel='linear', probability=True))\n",
    "}\n",
    "\n",
    "resultados = {}\n",
    "\n",
    "for nombre, modelo in modelos.items():\n",
    "    print(f\"Entrenando {nombre}...\")\n",
    "    modelo.fit(X_train, y_train)\n",
    "    y_pred = modelo.predict(X_test)\n",
    "    \n",
    "    acc = accuracy_score(y_test, y_pred)\n",
    "    print(f\"Precisión de {nombre}: {acc:.4f}\")\n",
    "    print(classification_report(y_test, y_pred))\n",
    "    \n",
    "    resultados[nombre] = {\n",
    "        \"Modelo\": modelo,\n",
    "        \"Accuracy\": acc\n",
    "    }"
   ]
  },
  {
   "cell_type": "code",
   "execution_count": 5,
   "metadata": {},
   "outputs": [
    {
     "name": "stdout",
     "output_type": "stream",
     "text": [
      "\n",
      "Mejor modelo seleccionado: Random Forest\n",
      "Carpeta '../models' creada.\n",
      "Modelo guardado como '../models/model_classification.joblib'\n"
     ]
    }
   ],
   "source": [
    "# =================== Selección del Mejor Modelo ===================\n",
    "import os\n",
    "\n",
    "\n",
    "mejor_modelo_nombre = max(resultados, key=lambda x: resultados[x][\"Accuracy\"])\n",
    "mejor_modelo = resultados[mejor_modelo_nombre][\"Modelo\"]\n",
    "\n",
    "print(f\"\\nMejor modelo seleccionado: {mejor_modelo_nombre}\")\n",
    "\n",
    "# =================== Crear carpeta models si no existe ===================\n",
    "models_dir = \"../models\"\n",
    "if not os.path.exists(models_dir):\n",
    "    os.makedirs(models_dir)\n",
    "    print(f\"Carpeta '{models_dir}' creada.\")\n",
    "\n",
    "# =================== Exportar el Modelo ===================\n",
    "model_path = os.path.join(models_dir, \"model_classification.joblib\")\n",
    "joblib.dump(mejor_modelo, model_path)\n",
    "print(f\"Modelo guardado como '{model_path}'\")"
   ]
  }
 ],
 "metadata": {
  "kernelspec": {
   "display_name": "base",
   "language": "python",
   "name": "python3"
  },
  "language_info": {
   "codemirror_mode": {
    "name": "ipython",
    "version": 3
   },
   "file_extension": ".py",
   "mimetype": "text/x-python",
   "name": "python",
   "nbconvert_exporter": "python",
   "pygments_lexer": "ipython3",
   "version": "3.12.7"
  }
 },
 "nbformat": 4,
 "nbformat_minor": 2
}
