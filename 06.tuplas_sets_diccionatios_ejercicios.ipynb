{
 "cells": [
  {
   "cell_type": "markdown",
   "id": "bd9af8bb",
   "metadata": {},
   "source": [
    "## Ejercicios - Tuplas, Sets y Diccionarios"
   ]
  },
  {
   "cell_type": "markdown",
   "id": "5cd0dbdf",
   "metadata": {},
   "source": [
    "### Tuplas"
   ]
  },
  {
   "cell_type": "markdown",
   "id": "5fcfd082",
   "metadata": {},
   "source": [
    "### Ejercicio 1\n",
    "- Crea una tupla utilizando la función **range()**, que tenga un rango del 11 al 19.\n",
    "    - Ejemplo: **tupla = tuple(range(3))**"
   ]
  },
  {
   "cell_type": "code",
   "execution_count": null,
   "id": "5767cc8f",
   "metadata": {
    "tags": []
   },
   "outputs": [],
   "source": [
    "tupla = tuple(range(11, 19))\n",
    "\n",
    "tupla"
   ]
  },
  {
   "cell_type": "code",
   "execution_count": null,
   "id": "69f61ed6",
   "metadata": {
    "tags": []
   },
   "outputs": [],
   "source": []
  },
  {
   "cell_type": "markdown",
   "id": "dd868625",
   "metadata": {},
   "source": [
    "### Ejercicio 2\n",
    "- Crea una lista vacia y llenala con los números de la tupla anterior usando un bucle."
   ]
  },
  {
   "cell_type": "code",
   "execution_count": null,
   "id": "e261324e",
   "metadata": {},
   "outputs": [],
   "source": [
    "lista = []\n",
    "\n",
    "for i in tupla:\n",
    "    \n",
    "    lista.append(i)\n",
    "    \n",
    "lista"
   ]
  },
  {
   "cell_type": "code",
   "execution_count": null,
   "id": "a42632ec",
   "metadata": {},
   "outputs": [],
   "source": []
  },
  {
   "cell_type": "markdown",
   "id": "8fa8417c",
   "metadata": {},
   "source": [
    "### Ejercicio 3\n",
    "- Ordena la lista de mayor a menor."
   ]
  },
  {
   "cell_type": "code",
   "execution_count": null,
   "id": "9b9fe725",
   "metadata": {},
   "outputs": [],
   "source": [
    "lista.reverse()\n",
    "\n",
    "lista"
   ]
  },
  {
   "cell_type": "code",
   "execution_count": null,
   "id": "3c27e0b7",
   "metadata": {},
   "outputs": [],
   "source": []
  },
  {
   "cell_type": "markdown",
   "id": "a4aba352",
   "metadata": {},
   "source": [
    "### Ejercicio 4\n",
    "- Transforma la lista a tupla y ordenala de menor a mayor."
   ]
  },
  {
   "cell_type": "code",
   "execution_count": null,
   "id": "9693f765",
   "metadata": {},
   "outputs": [],
   "source": [
    "tupla = tuple(lista)\n",
    "\n",
    "tupla = tuple(sorted(lista))\n",
    "\n",
    "tupla"
   ]
  },
  {
   "cell_type": "code",
   "execution_count": null,
   "id": "0042ff89",
   "metadata": {},
   "outputs": [],
   "source": []
  },
  {
   "cell_type": "markdown",
   "id": "11e327bc",
   "metadata": {},
   "source": [
    "### Ejercicio 5\n",
    "- ¿Que tipo de dato es la variable resultante?"
   ]
  },
  {
   "cell_type": "code",
   "execution_count": null,
   "id": "de6614c0",
   "metadata": {},
   "outputs": [],
   "source": [
    "type(tupla)"
   ]
  },
  {
   "cell_type": "code",
   "execution_count": null,
   "id": "6825680a",
   "metadata": {},
   "outputs": [],
   "source": []
  },
  {
   "cell_type": "markdown",
   "id": "51174939",
   "metadata": {},
   "source": [
    "### Ejercicio 6\n",
    "- Dada la siguiente **frase = \"Fui programado para servir, no para destruir - C3PO\"**, conviertela en tupla, ordenala y manten la tupla. (El resultado final debe ser una tupla)"
   ]
  },
  {
   "cell_type": "code",
   "execution_count": 16,
   "id": "22386983",
   "metadata": {},
   "outputs": [],
   "source": [
    "frase = \"Fui programado para servir, no para destruir - C3PO\""
   ]
  },
  {
   "cell_type": "code",
   "execution_count": null,
   "id": "abb46d56",
   "metadata": {
    "scrolled": true
   },
   "outputs": [],
   "source": [
    "palabras = frase.split()\n",
    "\n",
    "tupla = tuple(palabras)\n",
    "\n",
    "print(tupla)"
   ]
  },
  {
   "cell_type": "code",
   "execution_count": null,
   "id": "e7a47319",
   "metadata": {},
   "outputs": [],
   "source": []
  },
  {
   "cell_type": "code",
   "execution_count": null,
   "id": "1c137acf",
   "metadata": {},
   "outputs": [],
   "source": []
  },
  {
   "cell_type": "markdown",
   "id": "12437162",
   "metadata": {},
   "source": [
    "### Ejercicio 7\n",
    "- Del resultado anterior, muestra cuantas veces aparece cada vocal.\n",
    "    - Utiliza un bucle **for** que recorra la siguiente tupla: **(\"a\", \"e\", \"i\", \"o\", \"u\")**"
   ]
  },
  {
   "cell_type": "code",
   "execution_count": null,
   "id": "fee4bc57",
   "metadata": {},
   "outputs": [],
   "source": [
    "vocales = (\"a\", \"e\", \"i\", \"o\", \"u\")\n",
    "\n",
    "for vocal in vocales:\n",
    "    \n",
    "    print(f\"Vocal: {vocal} - veces: {frase.count(vocal)}\")\n",
    "\n"
   ]
  },
  {
   "cell_type": "code",
   "execution_count": null,
   "id": "3faf738d",
   "metadata": {},
   "outputs": [],
   "source": []
  },
  {
   "cell_type": "code",
   "execution_count": null,
   "id": "17451ea0-b6c1-491d-a2a1-8fef75062e11",
   "metadata": {},
   "outputs": [],
   "source": []
  },
  {
   "cell_type": "markdown",
   "id": "f8790981",
   "metadata": {},
   "source": [
    "### Ejercicio 8\n",
    "- Dada la siguiente tupla: **(9, 8, 7, 5, \"a\", 3, 6, 5)**, encuentra la forma para eliminar la letra **\"a\"**. (El resultado final debe ser una tupla)"
   ]
  },
  {
   "cell_type": "code",
   "execution_count": null,
   "id": "7fbf5374",
   "metadata": {},
   "outputs": [],
   "source": [
    "tupla = (9, 8, 7, 5, \"a\", 3, 6, 5)\n",
    "\n",
    "tupla = list(tupla)\n",
    "\n",
    "tupla.remove(\"a\")\n",
    "\n",
    "tupla = tuple(tupla)\n",
    "\n",
    "tupla"
   ]
  },
  {
   "cell_type": "code",
   "execution_count": null,
   "id": "8165221e",
   "metadata": {},
   "outputs": [],
   "source": []
  },
  {
   "cell_type": "markdown",
   "id": "82c7eea3",
   "metadata": {},
   "source": [
    "### Ejercicio 9\n",
    "- Pregunta a un usuario que ingrese 5 elementos diferentes separados por coma y convierte estos elementos a una tupla, pueden ser palabras o un números."
   ]
  },
  {
   "cell_type": "code",
   "execution_count": null,
   "id": "20c8cf64",
   "metadata": {},
   "outputs": [],
   "source": [
    "usuario_elementos = input(\"Introduzca 5 elementos separados por comas: \")\n",
    "\n",
    "elementos = usuario_elementos.split()\n",
    "\n",
    "tupla = tuple(elementos)\n",
    "\n",
    "tupla"
   ]
  },
  {
   "cell_type": "code",
   "execution_count": null,
   "id": "bf819dbf",
   "metadata": {},
   "outputs": [],
   "source": []
  },
  {
   "cell_type": "markdown",
   "id": "1743bc9c",
   "metadata": {},
   "source": [
    "### Ejercicio 10\n",
    "- Dada la siguiente lista de tuplas: **[(10, 20, 40), (40, 50, 60), (70, 80, 90)]**, elimina el último elemento de cada tupla dentro de la lista."
   ]
  },
  {
   "cell_type": "code",
   "execution_count": null,
   "id": "bf3562a3",
   "metadata": {},
   "outputs": [],
   "source": [
    "lista_tuplas = [(10, 20, 40), (40, 50, 60), (70, 80, 90)]\n",
    "\n",
    "tuplas_final = []\n",
    "\n",
    "for tupla in lista_tuplas:\n",
    "    \n",
    "    tuplas_final.append(tupla[:-1])\n",
    "    \n",
    "tuplas_final"
   ]
  },
  {
   "cell_type": "code",
   "execution_count": null,
   "id": "073bceb1",
   "metadata": {},
   "outputs": [],
   "source": []
  },
  {
   "cell_type": "code",
   "execution_count": null,
   "id": "780e0be9",
   "metadata": {},
   "outputs": [],
   "source": []
  },
  {
   "cell_type": "markdown",
   "id": "3b2ac10b",
   "metadata": {},
   "source": [
    "### Sets"
   ]
  },
  {
   "cell_type": "markdown",
   "id": "47aecaf8",
   "metadata": {},
   "source": [
    "### Ejercicio 11\n",
    "- Pide al usuario que ingrese 3 empresas de tecnología, estos elementos agregalos al **set_1 = {\"Meta\", \"Google\", \"Amazon\"}**\n",
    "\n",
    "- Verifica que no se repita ninguna empresa y dile al usuario que no se repitio ninguna empresa."
   ]
  },
  {
   "cell_type": "code",
   "execution_count": null,
   "id": "a7d1d7b5",
   "metadata": {},
   "outputs": [],
   "source": [
    "set_1 = {\"Meta\", \"Google\", \"Amazon\"}\n",
    "\n",
    "entrada_empresas = input(\"Inserte 3 nombres de empresas de tecnología: \")\n",
    "\n",
    "empresas = entrada_empresas.split()\n",
    "\n",
    "print(\"Empresas ingresadas:\", empresas)\n",
    "\n",
    "\n",
    "set_1.update(empresas)\n",
    "\n",
    "print(\"Set actualizado:\", set_1)"
   ]
  },
  {
   "cell_type": "code",
   "execution_count": null,
   "id": "e6b9b4e8",
   "metadata": {},
   "outputs": [],
   "source": []
  },
  {
   "cell_type": "code",
   "execution_count": null,
   "id": "66785b60",
   "metadata": {},
   "outputs": [],
   "source": []
  },
  {
   "cell_type": "code",
   "execution_count": null,
   "id": "36ec123d",
   "metadata": {},
   "outputs": [],
   "source": []
  },
  {
   "cell_type": "markdown",
   "id": "1d24f6da",
   "metadata": {},
   "source": [
    "### Ejercicio 12\n",
    "- Repite el ejercicio anterior pero ahora imprime las empresas que se repiten en caso de que existiera uno o más que se repitan."
   ]
  },
  {
   "cell_type": "code",
   "execution_count": 4,
   "id": "b8f919bc",
   "metadata": {},
   "outputs": [
    {
     "name": "stdout",
     "output_type": "stream",
     "text": [
      "Set actualizado: {'Google', 'Amazon', 'Tesla', 'Meta'}\n",
      "Empresas repetidas: {'Google', 'Amazon'}\n"
     ]
    }
   ],
   "source": [
    "set_1 = {\"Meta\", \"Google\", \"Amazon\"}\n",
    "\n",
    "entrada_empresas = input(\"Inserte 3 nombres de empresas de tecnología: \")\n",
    "\n",
    "empresas = [empresa.strip(\",\") for empresa in entrada_empresas.split()]\n",
    "\n",
    "set_empresas = set(empresas)\n",
    "\n",
    "repetidas = set_1.intersection(set_empresas)\n",
    "\n",
    "set_1.update(set_empresas)\n",
    "\n",
    "print(\"Set actualizado:\", set_1)\n",
    "\n",
    "if repetidas:\n",
    "    \n",
    "    print(\"Empresas repetidas:\", repetidas)\n",
    "    \n",
    "else:\n",
    "    \n",
    "    print(\"No hay empresas repetidas.\")"
   ]
  },
  {
   "cell_type": "code",
   "execution_count": null,
   "id": "f27eda2a",
   "metadata": {},
   "outputs": [],
   "source": []
  },
  {
   "cell_type": "code",
   "execution_count": null,
   "id": "8d4aac1a",
   "metadata": {},
   "outputs": [],
   "source": []
  },
  {
   "cell_type": "code",
   "execution_count": null,
   "id": "4c043fc5",
   "metadata": {},
   "outputs": [],
   "source": []
  },
  {
   "cell_type": "code",
   "execution_count": null,
   "id": "0dc66a42",
   "metadata": {},
   "outputs": [],
   "source": []
  },
  {
   "cell_type": "markdown",
   "id": "090eb0fb",
   "metadata": {},
   "source": [
    "### Ejercicio 13\n",
    "- Dadas las siguientes **frases_1 = \"En una galaxia lejana\"** y **frase_2 = \"Una galaxia llamadá Via Lactea\"**, haz la intersección de las palabras."
   ]
  },
  {
   "cell_type": "code",
   "execution_count": 3,
   "id": "656f4cf7",
   "metadata": {},
   "outputs": [
    {
     "name": "stdout",
     "output_type": "stream",
     "text": [
      "{'galaxia'}\n"
     ]
    }
   ],
   "source": [
    "frase_1 = \"En una galaxia lejana\"\n",
    "\n",
    "frase_2 = \"Una galaxia llamadá Via Lactea\"\n",
    "\n",
    "list_frase_1 = frase_1.split()\n",
    "\n",
    "list_frase_2 = frase_2.split()\n",
    "\n",
    "set_1 = set(list_frase_1)\n",
    "\n",
    "set_2 = set(list_frase_2)\n",
    "\n",
    "interseccion = set_1.intersection(set_2)\n",
    "\n",
    "print(interseccion)\n"
   ]
  },
  {
   "cell_type": "code",
   "execution_count": null,
   "id": "b2dd0b00",
   "metadata": {},
   "outputs": [],
   "source": []
  },
  {
   "cell_type": "code",
   "execution_count": null,
   "id": "93a2643a",
   "metadata": {},
   "outputs": [],
   "source": []
  },
  {
   "cell_type": "markdown",
   "id": "4783b135",
   "metadata": {},
   "source": [
    "### Ejercicio 14\n",
    "- Encuentra la diferencia entre el **set_1 = {9, 8, 7, 6, 5, 4, 3, 2}** y el **set_2 = {9, 8, 10}**\n",
    "- **Extra**: hazlo utilizando un bucle **for** y no la función."
   ]
  },
  {
   "cell_type": "code",
   "execution_count": 5,
   "id": "b9c1f6da",
   "metadata": {},
   "outputs": [
    {
     "name": "stdout",
     "output_type": "stream",
     "text": [
      "La diferencia entre set_1 y set_2 es: {2, 3, 4, 5, 6, 7}\n"
     ]
    }
   ],
   "source": [
    "set_1 = {9, 8, 7, 6, 5, 4, 3, 2}\n",
    "set_2 = {9, 8, 10}\n",
    "\n",
    "diferencia = set()\n",
    "\n",
    "for elemento in set_1:\n",
    "    \n",
    "    if elemento not in set_2:\n",
    "        \n",
    "        diferencia.add(elemento)\n",
    "        \n",
    "print(\"La diferencia entre set_1 y set_2 es:\", diferencia)"
   ]
  },
  {
   "cell_type": "code",
   "execution_count": null,
   "id": "9c022e32",
   "metadata": {},
   "outputs": [],
   "source": []
  },
  {
   "cell_type": "code",
   "execution_count": null,
   "id": "bacca9a5",
   "metadata": {},
   "outputs": [],
   "source": []
  },
  {
   "cell_type": "markdown",
   "id": "551a5435",
   "metadata": {},
   "source": [
    "### Diccionarios"
   ]
  },
  {
   "cell_type": "markdown",
   "id": "d8f629e4",
   "metadata": {},
   "source": [
    "### Ejercicio 15\n",
    "- Crea un diccionario con 5 elementos (5 llaves y 5 valores)\n",
    "    - **Llave**: Color\n",
    "    - **Valor**: Numero de letras del color"
   ]
  },
  {
   "cell_type": "code",
   "execution_count": 6,
   "id": "19a8538b",
   "metadata": {},
   "outputs": [
    {
     "name": "stdout",
     "output_type": "stream",
     "text": [
      "{'Rojo': 4, 'Azul': 4, 'Verde': 5, 'Amarillo': 8, 'Blanco': 6}\n"
     ]
    }
   ],
   "source": [
    "colores = {\n",
    "    \"Rojo\": len(\"Rojo\"),\n",
    "    \"Azul\": len(\"Azul\"),\n",
    "    \"Verde\": len(\"Verde\"),\n",
    "    \"Amarillo\": len(\"Amarillo\"),\n",
    "    \"Blanco\": len(\"Blanco\")\n",
    "}\n",
    "\n",
    "print(colores)"
   ]
  },
  {
   "cell_type": "code",
   "execution_count": null,
   "id": "93b5e05d-e06b-4af8-afc8-9f01953a883d",
   "metadata": {},
   "outputs": [],
   "source": []
  },
  {
   "cell_type": "code",
   "execution_count": null,
   "id": "09c5ec06",
   "metadata": {},
   "outputs": [],
   "source": []
  },
  {
   "cell_type": "markdown",
   "id": "e8f4f57c",
   "metadata": {},
   "source": [
    "### Ejercicio 16\n",
    "- Crea un diccionario con 5 elementos pero esta vez pregunta el usuario por cada llave y valor.\n",
    "    - **Llave**: Color\n",
    "    - **Valor**: Numero de letras del color"
   ]
  },
  {
   "cell_type": "code",
   "execution_count": 9,
   "id": "90c9b8de",
   "metadata": {},
   "outputs": [
    {
     "name": "stdout",
     "output_type": "stream",
     "text": [
      "Diccionario con colores y el número de letras:\n",
      "{'Rojo': 4, 'Verde': 5, 'Negro': 5, 'Azul': 4, 'violeta': 7}\n"
     ]
    }
   ],
   "source": [
    "colores = {}\n",
    "\n",
    "for i in range(5):\n",
    "    \n",
    "    color = input(f\"Ingrese el nombre del color {i+1}: \")\n",
    "    \n",
    "    num_letras = int(input(f\"Infrese el numero de letras del color {color}: \"))\n",
    "    \n",
    "    colores[color] = num_letras\n",
    "    \n",
    "print(\"Diccionario con colores y el número de letras:\")\n",
    "print(colores)"
   ]
  },
  {
   "cell_type": "code",
   "execution_count": 8,
   "id": "506738f1",
   "metadata": {},
   "outputs": [
    {
     "name": "stdout",
     "output_type": "stream",
     "text": [
      "Diccionario con colores y el número de letras:\n",
      "{'rojo': 4, 'azul': 4, 'verde': 5, 'amarillo': 8, 'negro': 5}\n"
     ]
    }
   ],
   "source": []
  },
  {
   "cell_type": "code",
   "execution_count": null,
   "id": "21c199ae-a350-427a-bd96-9d8971a0249b",
   "metadata": {},
   "outputs": [],
   "source": []
  },
  {
   "cell_type": "markdown",
   "id": "f1d25834",
   "metadata": {},
   "source": [
    "### Ejercicio 17\n",
    "- Repite el ejercicio anterior pero de la siguiente forma:\n",
    "    - Primero crea en una lista los colores y en otra lista el numero de letras\n",
    "    - Después crea el diccionario a partir de las listas."
   ]
  },
  {
   "cell_type": "code",
   "execution_count": 11,
   "id": "55cae263",
   "metadata": {},
   "outputs": [
    {
     "data": {
      "text/plain": [
       "{'Azul': 4, 'Rojo': 4, 'Verde': 5}"
      ]
     },
     "execution_count": 11,
     "metadata": {},
     "output_type": "execute_result"
    }
   ],
   "source": [
    "dic_colores = {}\n",
    "\n",
    "colores = [\"Azul\", \"Rojo\", \"Verde\"]\n",
    "num_letras = [4, 4, 5]\n",
    "\n",
    "for llave, valor in zip(colores, num_letras):\n",
    "    \n",
    "    dic_colores[llave] = valor\n",
    "    \n",
    "dic_colores"
   ]
  },
  {
   "cell_type": "code",
   "execution_count": null,
   "id": "5559f84c",
   "metadata": {},
   "outputs": [],
   "source": []
  },
  {
   "cell_type": "code",
   "execution_count": null,
   "id": "e00b8e81",
   "metadata": {},
   "outputs": [],
   "source": []
  },
  {
   "cell_type": "markdown",
   "id": "07d54429",
   "metadata": {},
   "source": [
    "### Ejercicio 18\n",
    "- Pide al usuario que ingrese 3 números distintos y guarda esos números como llaves y crea los valores utilizando la siguiente formula:\n",
    "    - x : x**2\n",
    "    \n",
    "Donde x es la llave."
   ]
  },
  {
   "cell_type": "code",
   "execution_count": 16,
   "id": "84ada027",
   "metadata": {},
   "outputs": [
    {
     "name": "stdout",
     "output_type": "stream",
     "text": [
      "Diccionario con números y sus cuadrados:\n",
      "{5: 25, 2: 4, 7: 49}\n"
     ]
    }
   ],
   "source": [
    "dic_numeros = {}\n",
    "\n",
    "for i in range(3):\n",
    "    \n",
    "   numeros = int(input(f\"Ingrese un número: numero {i+1} de 3\"))    \n",
    "   \n",
    "   dic_numeros[numeros] = numeros ** 2\n",
    "\n",
    "print(\"Diccionario con números y sus cuadrados:\")\n",
    "\n",
    "print(dic_numeros)"
   ]
  },
  {
   "cell_type": "code",
   "execution_count": null,
   "id": "5d99fe70-8a80-478f-8e91-32bd6bffa446",
   "metadata": {},
   "outputs": [],
   "source": []
  },
  {
   "cell_type": "code",
   "execution_count": null,
   "id": "7d2ea857",
   "metadata": {},
   "outputs": [],
   "source": []
  },
  {
   "cell_type": "markdown",
   "id": "225eef27",
   "metadata": {},
   "source": [
    "### Ejercicio 19\n",
    "- Pide al usuario que ingrese una frase y agrega las palabras como keys y la frecuencia de cada palabra como value en un diccionario. Usa la función **Counter**."
   ]
  },
  {
   "cell_type": "code",
   "execution_count": 22,
   "id": "31dc2dbc",
   "metadata": {},
   "outputs": [
    {
     "data": {
      "text/plain": [
       "{'hola': 3}"
      ]
     },
     "execution_count": 22,
     "metadata": {},
     "output_type": "execute_result"
    }
   ],
   "source": [
    "frase = input(\"Introduzca una frase\").lower()\n",
    "\n",
    "dic_frase = {}\n",
    "\n",
    "palabras = frase.split()\n",
    "\n",
    "for palabra in palabras:\n",
    "    \n",
    "    if palabra in dic_frase:\n",
    "    \n",
    "        dic_frase[palabra] += 1\n",
    "        \n",
    "    else:\n",
    "        \n",
    "        dic_frase[palabra] = 1\n",
    "        \n",
    "dic_frase"
   ]
  },
  {
   "cell_type": "code",
   "execution_count": null,
   "id": "b82f3136",
   "metadata": {},
   "outputs": [],
   "source": []
  },
  {
   "cell_type": "code",
   "execution_count": null,
   "id": "f6dfdf29",
   "metadata": {},
   "outputs": [],
   "source": []
  },
  {
   "cell_type": "markdown",
   "id": "9cce66c7",
   "metadata": {},
   "source": [
    "### Ejercicio 20\n",
    "- Crea un programa donde las keys son 7 números aleatorios entre el 100 y el 200 y en los values debe de estar la palabra par o impar, si el número es par o impar"
   ]
  },
  {
   "cell_type": "code",
   "execution_count": 26,
   "id": "2bbd2645",
   "metadata": {},
   "outputs": [
    {
     "data": {
      "text/plain": [
       "{179: 'impar',\n",
       " 163: 'impar',\n",
       " 192: 'par',\n",
       " 173: 'impar',\n",
       " 196: 'par',\n",
       " 154: 'par',\n",
       " 111: 'impar'}"
      ]
     },
     "execution_count": 26,
     "metadata": {},
     "output_type": "execute_result"
    }
   ],
   "source": [
    "import random\n",
    "\n",
    "aleatorio = {}\n",
    "\n",
    "for i in range(7):\n",
    "    \n",
    "    numero = random.randint(100, 200)\n",
    "    \n",
    "    if numero % 2 == 0:\n",
    "        \n",
    "        aleatorio[numero] = \"par\"\n",
    "        \n",
    "    else:\n",
    "        \n",
    "        aleatorio[numero] = \"impar\"\n",
    "        \n",
    "aleatorio\n",
    "\n"
   ]
  },
  {
   "cell_type": "code",
   "execution_count": null,
   "id": "fee58480",
   "metadata": {},
   "outputs": [],
   "source": []
  },
  {
   "cell_type": "code",
   "execution_count": null,
   "id": "7da4aeaf-7ed3-45cd-a724-e162e5939ff7",
   "metadata": {},
   "outputs": [],
   "source": []
  },
  {
   "cell_type": "markdown",
   "id": "4d474a3b",
   "metadata": {},
   "source": [
    "### Ejercicio 21\n",
    "- Crea un programa donde las keys son 10 números enteros aleatorios entre el 1 y el 50 y para cada value del diccionario vamos a utilizar la siguiente formula x : 1/x"
   ]
  },
  {
   "cell_type": "code",
   "execution_count": 28,
   "id": "3db65c7a",
   "metadata": {},
   "outputs": [
    {
     "data": {
      "text/plain": [
       "{8: 0.125,\n",
       " 50: 0.02,\n",
       " 3: 0.3333333333333333,\n",
       " 14: 0.07142857142857142,\n",
       " 18: 0.05555555555555555,\n",
       " 16: 0.0625,\n",
       " 32: 0.03125,\n",
       " 9: 0.1111111111111111,\n",
       " 4: 0.25}"
      ]
     },
     "execution_count": 28,
     "metadata": {},
     "output_type": "execute_result"
    }
   ],
   "source": [
    "num_random = {}\n",
    "\n",
    "for i in range(10):\n",
    "    \n",
    "    numeros = random.randint(1, 50)\n",
    "    \n",
    "    num_random[numeros] = 1 / numeros\n",
    "    \n",
    "num_random"
   ]
  },
  {
   "cell_type": "code",
   "execution_count": null,
   "id": "d70f79ef-a163-4649-ab4b-223b025b4ff6",
   "metadata": {},
   "outputs": [],
   "source": []
  },
  {
   "cell_type": "code",
   "execution_count": null,
   "id": "227b7aa5",
   "metadata": {},
   "outputs": [],
   "source": []
  },
  {
   "cell_type": "markdown",
   "id": "d2fb33ad",
   "metadata": {},
   "source": [
    "### Ejercicio 22\n",
    "- Crea un programa que dados los siguientes diccionarios: **d1 = {\"a\" : 125, \"b\" : 130, \"c\" : 150}**, **d2 = {\"e\" :  10, \"b\" : 20, \"a\" : 30}**, sume los items que tienen la misma key y guarde esas keys con la suma de los values en un nuevo diccionario"
   ]
  },
  {
   "cell_type": "code",
   "execution_count": 29,
   "id": "c0b2d94b",
   "metadata": {},
   "outputs": [
    {
     "data": {
      "text/plain": [
       "{'a': 155, 'b': 150, 'c': 150, 'e': 10}"
      ]
     },
     "execution_count": 29,
     "metadata": {},
     "output_type": "execute_result"
    }
   ],
   "source": [
    "d1 = {\"a\": 125, \"b\": 130, \"c\": 150}\n",
    "d2 = {\"e\": 10, \"b\": 20, \"a\": 30}\n",
    "\n",
    "dicc_nuevo = {}\n",
    "\n",
    "for key in d1:\n",
    "    \n",
    "    dicc_nuevo[key] = d1[key]\n",
    "    \n",
    "for key in d2:\n",
    "    \n",
    "    if key in dicc_nuevo:\n",
    "        \n",
    "        dicc_nuevo[key] += d2[key]\n",
    "        \n",
    "    else:\n",
    "        \n",
    "        dicc_nuevo[key] = d2[key]\n",
    "        \n",
    "dicc_nuevo"
   ]
  },
  {
   "cell_type": "code",
   "execution_count": null,
   "id": "ba84795f",
   "metadata": {},
   "outputs": [],
   "source": []
  },
  {
   "cell_type": "code",
   "execution_count": null,
   "id": "4cc64315",
   "metadata": {},
   "outputs": [],
   "source": []
  },
  {
   "cell_type": "code",
   "execution_count": null,
   "id": "06bc46b2",
   "metadata": {},
   "outputs": [],
   "source": [
    "##############################################################################################################################"
   ]
  }
 ],
 "metadata": {
  "kernelspec": {
   "display_name": "Python 3 (ipykernel)",
   "language": "python",
   "name": "python3"
  },
  "language_info": {
   "codemirror_mode": {
    "name": "ipython",
    "version": 3
   },
   "file_extension": ".py",
   "mimetype": "text/x-python",
   "name": "python",
   "nbconvert_exporter": "python",
   "pygments_lexer": "ipython3",
   "version": "3.13.1"
  }
 },
 "nbformat": 4,
 "nbformat_minor": 5
}
