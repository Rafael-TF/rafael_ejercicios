{
 "cells": [
  {
   "cell_type": "markdown",
   "id": "b87f144d",
   "metadata": {},
   "source": [
    "## Ejercicios - NumPy 2"
   ]
  },
  {
   "cell_type": "code",
   "execution_count": 1,
   "id": "b9d785ce",
   "metadata": {},
   "outputs": [],
   "source": [
    "import numpy as np\n",
    "import matplotlib # Para ver la versión\n",
    "import matplotlib.pyplot as plt\n",
    "from datetime import datetime, timedelta"
   ]
  },
  {
   "cell_type": "code",
   "execution_count": 2,
   "id": "968b278f-7bc6-4509-aecd-fcf99ebc90d6",
   "metadata": {
    "tags": []
   },
   "outputs": [
    {
     "name": "stdout",
     "output_type": "stream",
     "text": [
      "numpy==1.26.4\n",
      "matplotlib==3.9.4\n"
     ]
    }
   ],
   "source": [
    "# Versiones\n",
    "\n",
    "print(f\"numpy=={np.__version__}\")\n",
    "print(f\"matplotlib=={matplotlib.__version__}\")"
   ]
  },
  {
   "cell_type": "markdown",
   "id": "dc18e199",
   "metadata": {},
   "source": [
    "### Ejercicio 1:\n",
    "- Obten un vector con 12 elementos aleatorios, los primeros 6 elementos deben de ser negativos y los siguientes 6 elementos positivos."
   ]
  },
  {
   "cell_type": "code",
   "execution_count": 4,
   "id": "6aabb11a",
   "metadata": {},
   "outputs": [
    {
     "data": {
      "text/plain": [
       "array([-6.69925001, -4.30348711, -9.27487835, -7.39218526, -1.46470981,\n",
       "       -2.15226507,  5.57141739,  8.62759989,  8.69485301,  4.32609926,\n",
       "        7.74895631,  2.30518841])"
      ]
     },
     "execution_count": 4,
     "metadata": {},
     "output_type": "execute_result"
    }
   ],
   "source": [
    "# Generar los primeros 6 elementos negativos y los siguientes 6 elementos positivos\n",
    "vector_negativo = np.random.uniform(-10, -1, 6)  # Números negativos\n",
    "vector_positivo = np.random.uniform(1, 10, 6)    # Números positivos\n",
    "\n",
    "# Concatenar ambos vectores\n",
    "vector = np.concatenate((vector_negativo, vector_positivo))\n",
    "vector"
   ]
  },
  {
   "cell_type": "code",
   "execution_count": null,
   "id": "f7c1bfb3",
   "metadata": {},
   "outputs": [],
   "source": []
  },
  {
   "cell_type": "code",
   "execution_count": null,
   "id": "fa4259d7",
   "metadata": {},
   "outputs": [],
   "source": []
  },
  {
   "cell_type": "markdown",
   "id": "e693107b",
   "metadata": {},
   "source": [
    "### Ejercicio 2:\n",
    "- Obten una matriz con dimensiones igual a (3, 5) con valores flotantes entre 0 y 1 para cada elemento."
   ]
  },
  {
   "cell_type": "code",
   "execution_count": 5,
   "id": "8301606f",
   "metadata": {},
   "outputs": [
    {
     "name": "stdout",
     "output_type": "stream",
     "text": [
      "[[0.15644277 0.95829893 0.43902417 0.07161165 0.6684789 ]\n",
      " [0.20917538 0.51110185 0.60075371 0.07449916 0.16808086]\n",
      " [0.46046801 0.45959281 0.78088984 0.0749619  0.71865231]]\n"
     ]
    }
   ],
   "source": [
    "# Crear una matriz de 3 filas y 5 columnas con valores flotantes entre 0 y 1\n",
    "matriz = np.random.rand(3, 5)\n",
    "\n",
    "print(matriz)"
   ]
  },
  {
   "cell_type": "code",
   "execution_count": null,
   "id": "ba8da516",
   "metadata": {},
   "outputs": [],
   "source": []
  },
  {
   "cell_type": "code",
   "execution_count": null,
   "id": "e46e57df",
   "metadata": {},
   "outputs": [],
   "source": []
  },
  {
   "cell_type": "markdown",
   "id": "08fdb77d",
   "metadata": {},
   "source": [
    "### Ejercicio 3:\n",
    "- Obten una matriz con dimensiones igual a (4, 4), cada elemento de la matriz debe de ser un número aleatorio entre 1 y 5."
   ]
  },
  {
   "cell_type": "code",
   "execution_count": 8,
   "id": "8bc989b8",
   "metadata": {},
   "outputs": [
    {
     "data": {
      "text/plain": [
       "array([[5, 2, 1, 2],\n",
       "       [3, 1, 5, 3],\n",
       "       [5, 4, 5, 5],\n",
       "       [3, 1, 5, 4]])"
      ]
     },
     "execution_count": 8,
     "metadata": {},
     "output_type": "execute_result"
    }
   ],
   "source": [
    "matriz_4x4_random = np.random.randint(1, 6, size = (4, 4))\n",
    "matriz_4x4_random"
   ]
  },
  {
   "cell_type": "code",
   "execution_count": null,
   "id": "b46ba150",
   "metadata": {},
   "outputs": [],
   "source": []
  },
  {
   "cell_type": "code",
   "execution_count": null,
   "id": "71e67d3f",
   "metadata": {},
   "outputs": [],
   "source": []
  },
  {
   "cell_type": "markdown",
   "id": "34a1a228",
   "metadata": {},
   "source": [
    "### Ejercicio 4:\n",
    "- Obten una matriz de dimensiones (7, 7) de ceros y si la suma de sus indices es par convierte el valor en 1."
   ]
  },
  {
   "cell_type": "code",
   "execution_count": 9,
   "id": "bcb07165",
   "metadata": {},
   "outputs": [
    {
     "name": "stdout",
     "output_type": "stream",
     "text": [
      "[[1. 0. 1. 0. 1. 0. 1.]\n",
      " [0. 1. 0. 1. 0. 1. 0.]\n",
      " [1. 0. 1. 0. 1. 0. 1.]\n",
      " [0. 1. 0. 1. 0. 1. 0.]\n",
      " [1. 0. 1. 0. 1. 0. 1.]\n",
      " [0. 1. 0. 1. 0. 1. 0.]\n",
      " [1. 0. 1. 0. 1. 0. 1.]]\n"
     ]
    }
   ],
   "source": [
    "\n",
    "# Crear una matriz de 7x7 de ceros\n",
    "matriz = np.zeros((7, 7))\n",
    "\n",
    "# Iterar sobre los índices de la matriz y cambiar el valor a 1 si la suma de los índices es par\n",
    "for i in range(7):\n",
    "    for j in range(7):\n",
    "        if (i + j) % 2 == 0:\n",
    "            matriz[i, j] = 1\n",
    "\n",
    "print(matriz)"
   ]
  },
  {
   "cell_type": "code",
   "execution_count": null,
   "id": "d8968068",
   "metadata": {},
   "outputs": [],
   "source": []
  },
  {
   "cell_type": "code",
   "execution_count": null,
   "id": "a8efa66b",
   "metadata": {},
   "outputs": [],
   "source": []
  },
  {
   "cell_type": "code",
   "execution_count": 10,
   "id": "1394367d",
   "metadata": {},
   "outputs": [
    {
     "data": {
      "image/png": "[encoded data removed]",
      "text/plain": [
       "<Figure size 500x500 with 1 Axes>"
      ]
     },
     "metadata": {},
     "output_type": "display_data"
    }
   ],
   "source": [
    "# Después de crear la matriz anterior (matriz) ejecuta esta celda para observar a través de una imagen el resultado.\n",
    "\n",
    "plt.figure(figsize = (5, 5)) \n",
    "plt.imshow(matriz, cmap = \"gray\")\n",
    "plt.show()"
   ]
  },
  {
   "cell_type": "markdown",
   "id": "f713ac5b",
   "metadata": {},
   "source": [
    "### Ejercicio 5:\n",
    "- Obten la siguiente matriz usando **NumPy**:\n",
    "\n",
    "$$\n",
    "\\begin{bmatrix}\n",
    "1 & 1 & 1 & 1 & 1 & 1 \\\\\n",
    "1 & 0 & 0 & 0 & 0 & 1 \\\\\n",
    "1 & 0 & 0 & 0 & 0 & 1 \\\\\n",
    "1 & 0 & 0 & 0 & 0 & 1 \\\\\n",
    "1 & 0 & 0 & 0 & 0 & 1 \\\\\n",
    "1 & 1 & 1 & 1 & 1 & 1 \n",
    "\\end{bmatrix}\n",
    "$$"
   ]
  },
  {
   "cell_type": "code",
   "execution_count": 11,
   "id": "2515ea0a",
   "metadata": {},
   "outputs": [
    {
     "name": "stdout",
     "output_type": "stream",
     "text": [
      "[[1. 1. 1. 1. 1. 1.]\n",
      " [1. 0. 0. 0. 0. 1.]\n",
      " [1. 0. 0. 0. 0. 1.]\n",
      " [1. 0. 0. 0. 0. 1.]\n",
      " [1. 0. 0. 0. 0. 1.]\n",
      " [1. 1. 1. 1. 1. 1.]]\n"
     ]
    }
   ],
   "source": [
    "# Crear una matriz de 6x6 llena de unos\n",
    "matriz = np.ones((6, 6))\n",
    "\n",
    "# Rellenar las filas del medio con ceros en las posiciones internas\n",
    "matriz[1:5, 1:5] = 0\n",
    "\n",
    "print(matriz)"
   ]
  },
  {
   "cell_type": "code",
   "execution_count": null,
   "id": "78665e6c",
   "metadata": {},
   "outputs": [],
   "source": []
  },
  {
   "cell_type": "code",
   "execution_count": null,
   "id": "a6870fd8",
   "metadata": {},
   "outputs": [],
   "source": []
  },
  {
   "cell_type": "code",
   "execution_count": null,
   "id": "a7c5842e",
   "metadata": {},
   "outputs": [],
   "source": []
  },
  {
   "cell_type": "markdown",
   "id": "016f0c96",
   "metadata": {},
   "source": [
    "### Ejercicio 6:\n",
    "- Obten la siguiente matriz usando **NumPy**:\n",
    "\n",
    "$$\n",
    "\\begin{bmatrix}\n",
    "0 & 0 & 0 & 0 & 0 & 0 & 0 & 0 & 0 & 0 \\\\\n",
    "0 & 1 & 1 & 1 & 1 & 1 & 1 & 1 & 1 & 0 \\\\\n",
    "0 & 1 & 0 & 0 & 0 & 0 & 0 & 0 & 1 & 0 \\\\\n",
    "0 & 1 & 0 & 1 & 1 & 1 & 1 & 0 & 1 & 0 \\\\\n",
    "0 & 1 & 0 & 1 & 0 & 0 & 1 & 0 & 1 & 0 \\\\\n",
    "0 & 1 & 0 & 1 & 0 & 0 & 1 & 0 & 1 & 0 \\\\\n",
    "0 & 1 & 0 & 1 & 1 & 1 & 1 & 0 & 1 & 0 \\\\\n",
    "0 & 1 & 0 & 0 & 0 & 0 & 0 & 0 & 1 & 0 \\\\\n",
    "0 & 1 & 1 & 1 & 1 & 1 & 1 & 1 & 1 & 0 \\\\\n",
    "0 & 0 & 0 & 0 & 0 & 0 & 0 & 0 & 0 & 0 \n",
    "\\end{bmatrix}\n",
    "$$"
   ]
  },
  {
   "cell_type": "code",
   "execution_count": 12,
   "id": "2a193f15",
   "metadata": {},
   "outputs": [
    {
     "name": "stdout",
     "output_type": "stream",
     "text": [
      "[[0 0 0 0 0 0 0 0 0 0]\n",
      " [0 1 1 1 1 1 1 1 1 0]\n",
      " [0 1 0 0 0 0 0 0 1 0]\n",
      " [0 1 0 1 1 1 1 0 1 0]\n",
      " [0 1 0 1 0 0 0 1 0 0]\n",
      " [0 1 0 1 0 0 0 1 0 0]\n",
      " [0 1 0 1 1 1 1 0 1 0]\n",
      " [0 1 0 0 0 0 0 0 1 0]\n",
      " [0 1 1 1 1 1 1 1 1 0]\n",
      " [0 0 0 0 0 0 0 0 0 0]]\n"
     ]
    }
   ],
   "source": [
    "# Crear una matriz de 10x10 llena de ceros\n",
    "matriz = np.zeros((10, 10), dtype=int)\n",
    "\n",
    "# Rellenar las filas según el patrón dado\n",
    "matriz[1, 1:9] = 1\n",
    "matriz[2, 1] = 1\n",
    "matriz[2, 8] = 1\n",
    "matriz[3, 1] = 1\n",
    "matriz[3, 3:7] = 1\n",
    "matriz[3, 8] = 1\n",
    "matriz[4, 1] = 1\n",
    "matriz[4, 3] = 1\n",
    "matriz[4, 7] = 1\n",
    "matriz[5, 1] = 1\n",
    "matriz[5, 3] = 1\n",
    "matriz[5, 7] = 1\n",
    "matriz[6, 1] = 1\n",
    "matriz[6, 3:7] = 1\n",
    "matriz[6, 8] = 1\n",
    "matriz[7, 1] = 1\n",
    "matriz[7, 8] = 1\n",
    "matriz[8, 1:9] = 1\n",
    "\n",
    "# Mostrar la matriz resultante\n",
    "print(matriz)"
   ]
  },
  {
   "cell_type": "code",
   "execution_count": null,
   "id": "8f2ec8d0",
   "metadata": {},
   "outputs": [],
   "source": []
  },
  {
   "cell_type": "code",
   "execution_count": 13,
   "id": "bf058ffc",
   "metadata": {},
   "outputs": [
    {
     "data": {
      "image/png": "[encoded data removed]",
      "text/plain": [
       "<Figure size 500x500 with 1 Axes>"
      ]
     },
     "metadata": {},
     "output_type": "display_data"
    }
   ],
   "source": [
    "plt.figure(figsize = (5, 5)) \n",
    "plt.imshow(matriz, cmap = \"gray\")\n",
    "plt.show()"
   ]
  },
  {
   "cell_type": "markdown",
   "id": "cc4cd602",
   "metadata": {},
   "source": [
    "### Ejercicio 7:\n",
    "- Obten una matriz con dimensiones igual a (4, 7), el primer elemento de la matriz debe de ser el día de hoy y para los siguientes elementos los próximos días."
   ]
  },
  {
   "cell_type": "code",
   "execution_count": 15,
   "id": "9eecb8ff",
   "metadata": {},
   "outputs": [
    {
     "name": "stdout",
     "output_type": "stream",
     "text": [
      "[[datetime.date(2025, 1, 13) datetime.date(2025, 1, 14)\n",
      "  datetime.date(2025, 1, 15) datetime.date(2025, 1, 16)\n",
      "  datetime.date(2025, 1, 17) datetime.date(2025, 1, 18)\n",
      "  datetime.date(2025, 1, 19)]\n",
      " [datetime.date(2025, 1, 20) datetime.date(2025, 1, 21)\n",
      "  datetime.date(2025, 1, 22) datetime.date(2025, 1, 23)\n",
      "  datetime.date(2025, 1, 24) datetime.date(2025, 1, 25)\n",
      "  datetime.date(2025, 1, 26)]\n",
      " [datetime.date(2025, 1, 27) datetime.date(2025, 1, 28)\n",
      "  datetime.date(2025, 1, 29) datetime.date(2025, 1, 30)\n",
      "  datetime.date(2025, 1, 31) datetime.date(2025, 2, 1)\n",
      "  datetime.date(2025, 2, 2)]\n",
      " [datetime.date(2025, 2, 3) datetime.date(2025, 2, 4)\n",
      "  datetime.date(2025, 2, 5) datetime.date(2025, 2, 6)\n",
      "  datetime.date(2025, 2, 7) datetime.date(2025, 2, 8)\n",
      "  datetime.date(2025, 2, 9)]]\n"
     ]
    }
   ],
   "source": [
    "# Obtener el día de hoy\n",
    "hoy = datetime.today()\n",
    "\n",
    "# Crear una matriz de 4x7 con las fechas, comenzando desde hoy\n",
    "dias = np.empty((4, 7), dtype=object)\n",
    "\n",
    "# Rellenar la matriz con las fechas\n",
    "for i in range(4):\n",
    "    for j in range(7):\n",
    "        dias[i, j] = (hoy + timedelta(days=i*7 + j)).date()  # Solo la parte de la fecha\n",
    "\n",
    "# Mostrar la matriz\n",
    "print(dias)"
   ]
  },
  {
   "cell_type": "code",
   "execution_count": null,
   "id": "683192b0",
   "metadata": {},
   "outputs": [],
   "source": []
  },
  {
   "cell_type": "code",
   "execution_count": null,
   "id": "3b5faba9",
   "metadata": {},
   "outputs": [],
   "source": []
  },
  {
   "cell_type": "markdown",
   "id": "57672473",
   "metadata": {},
   "source": [
    "### Ejercicio 8:\n",
    "- Repite el ejercicio anterior pero el día de hoy debe de iniciar en la celda [0][4] y para los siguientes elementos los próximos días. Respecto a los elementos [0][0:4], agrega los días anteriores al día de hoy."
   ]
  },
  {
   "cell_type": "code",
   "execution_count": 16,
   "id": "2a8e5056",
   "metadata": {},
   "outputs": [
    {
     "name": "stdout",
     "output_type": "stream",
     "text": [
      "[[datetime.date(2025, 1, 9) datetime.date(2025, 1, 10)\n",
      "  datetime.date(2025, 1, 11) datetime.date(2025, 1, 12)\n",
      "  datetime.date(2025, 1, 13) datetime.date(2025, 1, 14)\n",
      "  datetime.date(2025, 1, 15)]\n",
      " [None None None None None None None]\n",
      " [None None None None None None None]\n",
      " [None None None None None None None]]\n"
     ]
    }
   ],
   "source": [
    "# Obtener el día de hoy\n",
    "hoy = datetime.today()\n",
    "\n",
    "# Crear una matriz de 4x7 vacía\n",
    "dias = np.empty((4, 7), dtype=object)\n",
    "\n",
    "# Colocar el día de hoy en la posición [0][4] y llenar los demás días\n",
    "for j in range(7):\n",
    "    dias[0, j] = (hoy + timedelta(days=j - 4)).date()  # Rellenar la primera fila con días anteriores y siguientes\n",
    "\n",
    "# Mostrar la matriz\n",
    "print(dias)"
   ]
  },
  {
   "cell_type": "code",
   "execution_count": null,
   "id": "fa782469",
   "metadata": {},
   "outputs": [],
   "source": []
  },
  {
   "cell_type": "code",
   "execution_count": null,
   "id": "83252081",
   "metadata": {},
   "outputs": [],
   "source": []
  },
  {
   "cell_type": "markdown",
   "id": "43e06b36",
   "metadata": {},
   "source": [
    "### Ejercicio 9:\n",
    "- Obten el calendario de julio como se muestra en la imagen:\n",
    "\n",
    "$$\n",
    "\\begin{bmatrix}\n",
    "28 & 29 & 30 & 1 & 2 & 3 & 4 \\\\\n",
    "5 & 6 & 7 & 8 & 9 & 10 & 11 \\\\\n",
    "12 & 13 & 14 & 15 & 16 & 17 & 18 \\\\\n",
    "19 & 20 & 21 & 22 & 23 & 24 & 25 \\\\\n",
    "26 & 27 & 28 & 29 & 30 & 31 & 1 \\\\\n",
    "2 & 3 & 4 & 5 & 6 & 7 & 8\n",
    "\\end{bmatrix}\n",
    "$$"
   ]
  },
  {
   "cell_type": "code",
   "execution_count": 20,
   "id": "cbade4cb",
   "metadata": {},
   "outputs": [
    {
     "name": "stdout",
     "output_type": "stream",
     "text": [
      "[[28 29 30  1  2  3  4]\n",
      " [ 5  6  7  8  9 10 11]\n",
      " [12 13 14 15 16 17 18]\n",
      " [19 20 21 22 23 24 25]\n",
      " [26 27 28 29 30 31  1]\n",
      " [ 2  3  4  5  6  7  8]]\n"
     ]
    }
   ],
   "source": [
    "# Crear la matriz de 6x7 para el calendario\n",
    "calendario = np.zeros((6, 7), dtype=int)\n",
    "\n",
    "# Los días de julio comienzan el miércoles (día 3 de la semana en Python, donde 0 es lunes)\n",
    "dias_julio = np.arange(1, 32)  # Los días del 1 al 31 de julio\n",
    "\n",
    "# Completar la matriz con los días de junio (28, 29, 30) y de agosto (1, 2, 3, ...)\n",
    "dias_anteriores = np.array([28, 29, 30])  # Los días de junio antes del 1 de julio\n",
    "dias_posteriores = np.array([1, 2, 3])   # Los primeros días de agosto\n",
    "\n",
    "# Completar el calendario en la matriz\n",
    "calendario[0, 0:3] = dias_anteriores\n",
    "calendario[0, 3:7] = dias_julio[0:4]  # Los primeros 4 días de julio (1 a 4)\n",
    "calendario[1, 0:7] = dias_julio[4:11]  # Días de julio del 5 al 11\n",
    "calendario[2, 0:7] = dias_julio[11:18]  # Días de julio del 12 al 18\n",
    "calendario[3, 0:7] = dias_julio[18:25]  # Días de julio del 19 al 25\n",
    "calendario[4, 0:6] = dias_julio[25:31]  # Días de julio del 26 al 31\n",
    "\n",
    "# Rellenar la última fila con los días de agosto\n",
    "calendario[4, 6] = dias_posteriores[0]  # Día 1 de agosto\n",
    "calendario[5, 0:2] = dias_posteriores[1:]  # Días 2 y 3 de agosto\n",
    "calendario[5, 2:] = np.array([4, 5, 6, 7, 8])  # Días 4 al 8 de agosto\n",
    "\n",
    "# Mostrar el calendario\n",
    "print(calendario)"
   ]
  },
  {
   "cell_type": "code",
   "execution_count": null,
   "id": "1dd52f12",
   "metadata": {},
   "outputs": [],
   "source": []
  },
  {
   "cell_type": "code",
   "execution_count": null,
   "id": "330c4e0b",
   "metadata": {},
   "outputs": [],
   "source": []
  },
  {
   "cell_type": "markdown",
   "id": "ee0c773e",
   "metadata": {},
   "source": [
    "### Ejercicio 10:\n",
    "- Obten una matriz con el calendario de junio, julio y agosto, como se muestra en la imagen:\n",
    "\n",
    "$$\n",
    "\\begin{bmatrix}\n",
    "31 & 1 & 2 & 3 & 4 & 5 & 6 \\\\\n",
    "7 & 8 & 9 & 10 & 11 & 12 & 13 \\\\\n",
    "14 & 15 & 16 & 17 & 18 & 19 & 20 \\\\\n",
    "21 & 22 & 23 & 24 & 25 & 26 & 27 \\\\\n",
    "28 & 29 & 30 & 1 & 2 & 3 & 4 \\\\\n",
    "5 & 6 & 7 & 8 & 9 & 10 & 11 \\\\\n",
    "12 & 13 & 14 & 15 & 16 & 17 & 18 \\\\\n",
    "19 & 20 & 21 & 22 & 23 & 24 & 25 \\\\\n",
    "26 & 27 & 28 & 29 & 30 & 31 & 1 \\\\\n",
    "2 & 3 & 4 & 5 & 6 & 7 & 8 \\\\\n",
    "9 & 10 & 11 & 12 & 13 & 14 & 15 \\\\\n",
    "16 & 17 & 18 & 19 & 20 & 21 & 22 \\\\\n",
    "23 & 24 & 25 & 26 & 27 & 28 & 29 \\\\\n",
    "30 & 31 & 1 & 2 & 3 & 4 & 5\n",
    "\\end{bmatrix}\n",
    "$$"
   ]
  },
  {
   "cell_type": "code",
   "execution_count": 29,
   "id": "c7053854",
   "metadata": {},
   "outputs": [
    {
     "name": "stdout",
     "output_type": "stream",
     "text": [
      "[[31  1  2  3  4  5  6]\n",
      " [ 7  8  9 10 11 12 13]\n",
      " [14 15 16 17 18 19 20]\n",
      " [21 22 23 24 25 26 27]\n",
      " [28 29 30  1  2  3  4]\n",
      " [ 5  6  7  8  9 10 11]\n",
      " [12 13 14 15 16 17 18]\n",
      " [19 20 21 22 23 24 25]\n",
      " [26 27 28 29 30 31  1]\n",
      " [ 2  3  4  5  6  7  8]\n",
      " [ 9 10 11 12 13 14 15]\n",
      " [16 17 18 19 20 21 22]\n",
      " [23 24 25 26 27 28 29]\n",
      " [30 31  1  2  3  4  5]]\n"
     ]
    }
   ],
   "source": [
    "# Crear una matriz de 14x7 para el calendario de los tres meses\n",
    "calendario = np.zeros((14, 7), dtype=int)\n",
    "\n",
    "# Días de los tres meses\n",
    "dias_junio = np.arange(1, 31)  # Días del 1 al 30 de junio\n",
    "dias_julio = np.arange(1, 32)  # Días del 1 al 31 de julio\n",
    "dias_agosto = np.arange(1, 32)  # Días del 1 al 31 de agosto\n",
    "\n",
    "# Rellenar el calendario\n",
    "\n",
    "# Junio comienza el día 31 en la primera fila y columna\n",
    "calendario[0, 0:7] = [31, 1, 2, 3, 4, 5, 6]  # Días del 31 de junio al 6 de junio\n",
    "calendario[1, 0:7] = [7, 8, 9, 10, 11, 12, 13]  # Días del 7 al 13 de junio\n",
    "calendario[2, 0:7] = [14, 15, 16, 17, 18, 19, 20]  # Días del 14 al 20 de junio\n",
    "calendario[3, 0:7] = [21, 22, 23, 24, 25, 26, 27]  # Días del 21 al 27 de junio\n",
    "calendario[4, 0:7] = [28, 29, 30, 1, 2, 3, 4]  # Días del 28 al 4 de julio\n",
    "\n",
    "# Julio comienza el día 5\n",
    "calendario[5, 0:7] = [5, 6, 7, 8, 9, 10, 11]  # Días del 5 al 11 de julio\n",
    "calendario[6, 0:7] = [12, 13, 14, 15, 16, 17, 18]  # Días del 12 al 18 de julio\n",
    "calendario[7, 0:7] = [19, 20, 21, 22, 23, 24, 25]  # Días del 19 al 25 de julio\n",
    "calendario[8, 0:7] = [26, 27, 28, 29, 30, 31, 1]  # Días del 26 al 1 de agosto\n",
    "\n",
    "# Agosto comienza el día 2\n",
    "calendario[9, 0:7] = [2, 3, 4, 5, 6, 7, 8]  # Días del 2 al 8 de agosto\n",
    "calendario[10, 0:7] = [9, 10, 11, 12, 13, 14, 15]  # Días del 9 al 15 de agosto\n",
    "calendario[11, 0:7] = [16, 17, 18, 19, 20, 21, 22]  # Días del 16 al 22 de agosto\n",
    "calendario[12, 0:7] = [23, 24, 25, 26, 27, 28, 29]  # Días del 23 al 29 de agosto\n",
    "calendario[13, 0:5] = [30, 31, 1, 2, 3]  # Días del 30 de agosto al 3 de septiembre\n",
    "calendario[13, 5:7] = [4, 5]  # Días 4 y 5 de septiembre\n",
    "\n",
    "# Mostrar el calendario\n",
    "print(calendario)"
   ]
  },
  {
   "cell_type": "code",
   "execution_count": null,
   "id": "44d70499",
   "metadata": {},
   "outputs": [],
   "source": []
  },
  {
   "cell_type": "code",
   "execution_count": null,
   "id": "072240ca",
   "metadata": {},
   "outputs": [],
   "source": []
  },
  {
   "cell_type": "markdown",
   "id": "5b8a6c12",
   "metadata": {},
   "source": [
    "### Ejercicio 11:\n",
    "- A partir de la matriz anterior obten la matriz de junio, julio y agosto haciendo slicing. Guarda cada mes en una variable."
   ]
  },
  {
   "cell_type": "code",
   "execution_count": 32,
   "id": "507c6050",
   "metadata": {},
   "outputs": [
    {
     "name": "stdout",
     "output_type": "stream",
     "text": [
      "Junio:\n",
      "[[31  1  2  3  4  5  6]\n",
      " [ 7  8  9 10 11 12 13]\n",
      " [14 15 16 17 18 19 20]\n",
      " [21 22 23 24 25 26 27]\n",
      " [28 29 30  1  2  3  4]]\n",
      "\n",
      "Julio:\n",
      "[[28 29 30  1  2  3  4]\n",
      " [ 5  6  7  8  9 10 11]\n",
      " [12 13 14 15 16 17 18]\n",
      " [19 20 21 22 23 24 25]\n",
      " [26 27 28 29 30 31  1]]\n",
      "\n",
      "Agosto:\n",
      "[[26 27 28 29 30 31  1]\n",
      " [ 2  3  4  5  6  7  8]\n",
      " [ 9 10 11 12 13 14 15]\n",
      " [16 17 18 19 20 21 22]\n",
      " [23 24 25 26 27 28 29]\n",
      " [30 31  1  2  3  4  5]]\n"
     ]
    }
   ],
   "source": [
    "# Obtener las matrices correspondientes a cada mes\n",
    "junio = calendario[0:5, :]  # Filas de junio (primeras 5 filas)\n",
    "julio = calendario[4:9, :]   # Filas de julio (filas 5 a 8)\n",
    "agosto = calendario[8:14, :] # Filas de agosto (filas 9 a 12)\n",
    "\n",
    "# Mostrar las matrices\n",
    "print(\"Junio:\")\n",
    "print(junio)\n",
    "\n",
    "print(\"\\nJulio:\")\n",
    "print(julio)\n",
    "\n",
    "print(\"\\nAgosto:\")\n",
    "print(agosto)"
   ]
  },
  {
   "cell_type": "code",
   "execution_count": null,
   "id": "b2c2d876",
   "metadata": {},
   "outputs": [],
   "source": []
  },
  {
   "cell_type": "code",
   "execution_count": null,
   "id": "f1f75763",
   "metadata": {},
   "outputs": [],
   "source": []
  },
  {
   "cell_type": "markdown",
   "id": "cd718614",
   "metadata": {},
   "source": [
    "### Ejercicio 12:\n",
    "- Suma las matrices de junio y julio, aplica la transpuesta, convierte la matriz en un vector, obten la suma acumulada del vector y divide todos los elementos entre el valor máximo del vector."
   ]
  },
  {
   "cell_type": "code",
   "execution_count": 34,
   "id": "8c0d365a",
   "metadata": {},
   "outputs": [
    {
     "name": "stdout",
     "output_type": "stream",
     "text": [
      "Matriz concatenada de junio y julio:\n",
      "[[31  1  2  3  4  5  6 28 29 30  1  2  3  4]\n",
      " [ 7  8  9 10 11 12 13  5  6  7  8  9 10 11]\n",
      " [14 15 16 17 18 19 20 12 13 14 15 16 17 18]\n",
      " [21 22 23 24 25 26 27 19 20 21 22 23 24 25]\n",
      " [28 29 30  1  2  3  4 26 27 28 29 30 31  1]]\n",
      "\n",
      "Matriz transpuesta de la concatenada:\n",
      "[[31  7 14 21 28]\n",
      " [ 1  8 15 22 29]\n",
      " [ 2  9 16 23 30]\n",
      " [ 3 10 17 24  1]\n",
      " [ 4 11 18 25  2]\n",
      " [ 5 12 19 26  3]\n",
      " [ 6 13 20 27  4]\n",
      " [28  5 12 19 26]\n",
      " [29  6 13 20 27]\n",
      " [30  7 14 21 28]\n",
      " [ 1  8 15 22 29]\n",
      " [ 2  9 16 23 30]\n",
      " [ 3 10 17 24 31]\n",
      " [ 4 11 18 25  1]]\n",
      "\n",
      "Vector aplanado de la matriz transpuesta:\n",
      "[31  7 14 21 28  1  8 15 22 29  2  9 16 23 30  3 10 17 24  1  4 11 18 25\n",
      "  2  5 12 19 26  3  6 13 20 27  4 28  5 12 19 26 29  6 13 20 27 30  7 14\n",
      " 21 28  1  8 15 22 29  2  9 16 23 30  3 10 17 24 31  4 11 18 25  1]\n",
      "\n",
      "Suma acumulada del vector:\n",
      "[  31   38   52   73  101  102  110  125  147  176  178  187  203  226\n",
      "  256  259  269  286  310  311  315  326  344  369  371  376  388  407\n",
      "  433  436  442  455  475  502  506  534  539  551  570  596  625  631\n",
      "  644  664  691  721  728  742  763  791  792  800  815  837  866  868\n",
      "  877  893  916  946  949  959  976 1000 1031 1035 1046 1064 1089 1090]\n",
      "\n",
      "Vector normalizado (dividido entre el valor máximo):\n",
      "[ 1.          1.22580645  1.67741935  2.35483871  3.25806452  3.29032258\n",
      "  3.5483871   4.03225806  4.74193548  5.67741935  5.74193548  6.03225806\n",
      "  6.5483871   7.29032258  8.25806452  8.35483871  8.67741935  9.22580645\n",
      " 10.         10.03225806 10.16129032 10.51612903 11.09677419 11.90322581\n",
      " 11.96774194 12.12903226 12.51612903 13.12903226 13.96774194 14.06451613\n",
      " 14.25806452 14.67741935 15.32258065 16.19354839 16.32258065 17.22580645\n",
      " 17.38709677 17.77419355 18.38709677 19.22580645 20.16129032 20.35483871\n",
      " 20.77419355 21.41935484 22.29032258 23.25806452 23.48387097 23.93548387\n",
      " 24.61290323 25.51612903 25.5483871  25.80645161 26.29032258 27.\n",
      " 27.93548387 28.         28.29032258 28.80645161 29.5483871  30.51612903\n",
      " 30.61290323 30.93548387 31.48387097 32.25806452 33.25806452 33.38709677\n",
      " 33.74193548 34.32258065 35.12903226 35.16129032]\n"
     ]
    }
   ],
   "source": [
    "# 1. Concatenar las matrices de junio y julio de forma horizontal\n",
    "concatenada = np.concatenate((junio, julio), axis=1)\n",
    "\n",
    "# 2. Aplicar la transpuesta de la matriz resultante\n",
    "concatenada_transpuesta = concatenada.T\n",
    "\n",
    "# 3. Convertir la matriz transpuesta en un vector (aplanar)\n",
    "vector = concatenada_transpuesta.flatten()\n",
    "\n",
    "# 4. Obtener la suma acumulada del vector\n",
    "suma_acumulada = np.cumsum(vector)\n",
    "\n",
    "# 5. Dividir todos los elementos entre el valor máximo del vector\n",
    "valor_maximo = np.max(vector)\n",
    "vector_normalizado = suma_acumulada / valor_maximo\n",
    "\n",
    "# Mostrar el resultado\n",
    "print(\"Matriz concatenada de junio y julio:\")\n",
    "print(concatenada)\n",
    "\n",
    "print(\"\\nMatriz transpuesta de la concatenada:\")\n",
    "print(concatenada_transpuesta)\n",
    "\n",
    "print(\"\\nVector aplanado de la matriz transpuesta:\")\n",
    "print(vector)\n",
    "\n",
    "print(\"\\nSuma acumulada del vector:\")\n",
    "print(suma_acumulada)\n",
    "\n",
    "print(\"\\nVector normalizado (dividido entre el valor máximo):\")\n",
    "print(vector_normalizado)"
   ]
  },
  {
   "cell_type": "code",
   "execution_count": null,
   "id": "ecdbb755",
   "metadata": {},
   "outputs": [],
   "source": []
  },
  {
   "cell_type": "code",
   "execution_count": null,
   "id": "05f28219",
   "metadata": {},
   "outputs": [],
   "source": []
  },
  {
   "cell_type": "markdown",
   "id": "0279df62",
   "metadata": {},
   "source": [
    "### Ejercicio 13:\n",
    "- Escribe un código que se pueda utilizar para generar este tipo de matrices automaticamente y aumenta la dimension de la matriz para observar los resultados como en la figura.\n",
    "\n",
    "$$\n",
    "\\begin{bmatrix}\n",
    "0 & 0 & 0 & 0 & 0 & 0 & 0 & 0 & 0 & 0 & 0 & 0 & 0 & 0 & 0 & 0 \\\\\n",
    "0 & 1 & 1 & 1 & 1 & 1 & 1 & 1 & 1 & 1 & 1 & 1 & 1 & 1 & 1 & 0 \\\\\n",
    "0 & 1 & 0 & 0 & 0 & 0 & 0 & 0 & 0 & 0 & 0 & 0 & 0 & 0 & 1 & 0 \\\\\n",
    "0 & 1 & 0 & 1 & 1 & 1 & 1 & 1 & 1 & 1 & 1 & 1 & 1 & 0 & 1 & 0 \\\\\n",
    "0 & 1 & 0 & 1 & 0 & 0 & 0 & 0 & 0 & 0 & 0 & 0 & 1 & 0 & 1 & 0 \\\\\n",
    "0 & 1 & 0 & 1 & 0 & 1 & 1 & 1 & 1 & 1 & 1 & 0 & 1 & 0 & 1 & 0 \\\\\n",
    "0 & 1 & 0 & 1 & 0 & 1 & 0 & 0 & 0 & 0 & 1 & 0 & 1 & 0 & 1 & 0 \\\\\n",
    "0 & 1 & 0 & 1 & 0 & 1 & 0 & 0 & 0 & 0 & 1 & 0 & 1 & 0 & 1 & 0 \\\\\n",
    "0 & 1 & 0 & 1 & 0 & 1 & 0 & 0 & 0 & 0 & 1 & 0 & 1 & 0 & 1 & 0 \\\\\n",
    "0 & 1 & 0 & 1 & 0 & 1 & 0 & 0 & 0 & 0 & 1 & 0 & 1 & 0 & 1 & 0 \\\\\n",
    "0 & 1 & 0 & 1 & 0 & 1 & 1 & 1 & 1 & 1 & 1 & 0 & 1 & 0 & 1 & 0 \\\\\n",
    "0 & 1 & 0 & 1 & 0 & 0 & 0 & 0 & 0 & 0 & 0 & 0 & 1 & 0 & 1 & 0 \\\\\n",
    "0 & 1 & 0 & 1 & 1 & 1 & 1 & 1 & 1 & 1 & 1 & 1 & 1 & 0 & 1 & 0 \\\\\n",
    "0 & 1 & 0 & 0 & 0 & 0 & 0 & 0 & 0 & 0 & 0 & 0 & 0 & 0 & 1 & 0 \\\\\n",
    "0 & 1 & 1 & 1 & 1 & 1 & 1 & 1 & 1 & 1 & 1 & 1 & 1 & 1 & 1 & 0 \\\\\n",
    "0 & 0 & 0 & 0 & 0 & 0 & 0 & 0 & 0 & 0 & 0 & 0 & 0 & 0 & 0 & 0\n",
    "\\end{bmatrix}\n",
    "$$"
   ]
  },
  {
   "attachments": {
    "numpy_7.png": {
     "image/png": "[encoded data removed]"
    }
   },
   "cell_type": "markdown",
   "id": "688a7a47",
   "metadata": {},
   "source": [
    "![numpy_7.png](attachment:numpy_7.png)"
   ]
  },
  {
   "cell_type": "code",
   "execution_count": 39,
   "id": "3122e1b5",
   "metadata": {},
   "outputs": [
    {
     "data": {
      "image/png": "[encoded data removed]",
      "text/plain": [
       "<Figure size 640x480 with 1 Axes>"
      ]
     },
     "metadata": {},
     "output_type": "display_data"
    },
    {
     "name": "stdout",
     "output_type": "stream",
     "text": [
      "[[0 0 0 0 0 0 0 0 0 0 0 0 0 0 0 0]\n",
      " [0 1 1 1 1 1 1 1 1 1 1 1 1 1 1 0]\n",
      " [0 1 0 0 0 0 0 0 0 0 0 0 0 0 1 0]\n",
      " [0 1 0 1 1 1 1 1 1 1 1 1 1 0 1 0]\n",
      " [0 1 0 1 0 0 0 0 0 0 0 0 1 0 1 0]\n",
      " [0 1 0 1 0 1 1 1 1 1 1 0 1 0 1 0]\n",
      " [0 1 0 1 0 1 0 0 0 0 1 0 1 0 1 0]\n",
      " [0 1 0 1 0 1 0 0 0 0 1 0 1 0 1 0]\n",
      " [0 1 0 1 0 1 0 0 0 0 1 0 1 0 1 0]\n",
      " [0 1 0 1 0 1 0 0 0 0 1 0 1 0 1 0]\n",
      " [0 1 0 1 0 1 1 1 1 1 1 0 1 0 1 0]\n",
      " [0 1 0 1 0 0 0 0 0 0 0 0 1 0 1 0]\n",
      " [0 1 0 1 1 1 1 1 1 1 1 1 1 0 1 0]\n",
      " [0 1 0 0 0 0 0 0 0 0 0 0 0 0 1 0]\n",
      " [0 1 1 1 1 1 1 1 1 1 1 1 1 1 1 0]\n",
      " [0 0 0 0 0 0 0 0 0 0 0 0 0 0 0 0]]\n"
     ]
    }
   ],
   "source": [
    "def generar_matriz_patron(n):\n",
    "    # Crear una matriz de ceros de tamaño n x n\n",
    "    matriz = np.zeros((n, n), dtype=int)\n",
    "    \n",
    "    # Llenar la matriz siguiendo el patrón\n",
    "    for i in range(n):\n",
    "        for j in range(n):\n",
    "            # Calcular la \"distancia\" al borde más cercano\n",
    "            dist = min(i, j, n-1-i, n-1-j)\n",
    "            \n",
    "            # Alternar entre 0 y 1 dependiendo de la distancia al borde\n",
    "            if dist % 2 == 0:\n",
    "                matriz[i, j] = 0\n",
    "            else:\n",
    "                matriz[i, j] = 1\n",
    "                \n",
    "    # Establecer los 1 del centro a 0\n",
    "    centro = n // 2\n",
    "    if n % 2 == 0:  # Si el tamaño es par, hay un bloque central 2x2\n",
    "        matriz[centro-1:centro+1, centro-1:centro+1] = 0\n",
    "    else:  # Si es impar, el centro es una sola celda\n",
    "        matriz[centro, centro] = 0\n",
    "    \n",
    "    return matriz\n",
    "\n",
    "# Generar la matriz 16x16\n",
    "n = 16\n",
    "matriz = generar_matriz_patron(n)\n",
    "\n",
    "# Mostrar la matriz usando matplotlib\n",
    "plt.imshow(matriz, cmap='Greys', interpolation='nearest')\n",
    "plt.title(f'Matriz de tamaño {n}x{n}')\n",
    "plt.show()\n",
    "\n",
    "# Imprimir la matriz\n",
    "print(matriz)"
   ]
  },
  {
   "cell_type": "code",
   "execution_count": null,
   "id": "8118ec25",
   "metadata": {},
   "outputs": [],
   "source": []
  },
  {
   "cell_type": "code",
   "execution_count": null,
   "id": "3b059b7a",
   "metadata": {},
   "outputs": [],
   "source": []
  },
  {
   "cell_type": "code",
   "execution_count": null,
   "id": "7cd90e58",
   "metadata": {},
   "outputs": [],
   "source": [
    "################################################################################################################################"
   ]
  }
 ],
 "metadata": {
  "kernelspec": {
   "display_name": "Python 3 (ipykernel)",
   "language": "python",
   "name": "python3"
  },
  "language_info": {
   "codemirror_mode": {
    "name": "ipython",
    "version": 3
   },
   "file_extension": ".py",
   "mimetype": "text/x-python",
   "name": "python",
   "nbconvert_exporter": "python",
   "pygments_lexer": "ipython3",
   "version": "3.12.7"
  }
 },
 "nbformat": 4,
 "nbformat_minor": 5
}
