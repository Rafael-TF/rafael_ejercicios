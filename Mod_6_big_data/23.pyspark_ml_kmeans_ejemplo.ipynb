{
 "cells": [
  {
   "cell_type": "code",
   "execution_count": null,
   "metadata": {},
   "outputs": [],
   "source": [
    "import pandas as pd\n",
    "import seaborn as sns\n",
    "import matplotlib.pyplot as plt\n",
    "\n",
    "# PySpark\n",
    "from pyspark.sql import SparkSession\n",
    "from pyspark.ml.feature import VectorAssembler, PCA as PCA_spark\n",
    "from pyspark.ml.clustering import KMeans\n",
    "from pyspark.sql.functions import col\n",
    "from pyspark.ml.evaluation import ClusteringEvaluator\n",
    "\n",
    "# Para visualización\n",
    "import matplotlib.pyplot as plt\n",
    "\n",
    "# Iniciar SparkSession\n",
    "spark = SparkSession.builder \\\n",
    "    .appName(\"KMeans_Iris_PySpark\") \\\n",
    "    .getOrCreate()"
   ]
  },
  {
   "cell_type": "code",
   "execution_count": null,
   "metadata": {},
   "outputs": [],
   "source": [
    "# Cargar dataset Iris con seaborn\n",
    "iris = sns.load_dataset(\"iris\")\n",
    "print(iris.head())\n",
    "\n",
    "# El DataFrame de seaborn/pandas contiene columnas:\n",
    "# ['sepal_length', 'sepal_width', 'petal_length', 'petal_width', 'species']"
   ]
  },
  {
   "cell_type": "code",
   "execution_count": null,
   "metadata": {},
   "outputs": [],
   "source": [
    "# Scatterplot con las clases originales\n",
    "plt.figure(figsize=(6, 5))\n",
    "sns.scatterplot(\n",
    "    data=iris, \n",
    "    x=\"sepal_length\", \n",
    "    y=\"sepal_width\", \n",
    "    hue=\"species\",\n",
    "    palette=\"deep\"\n",
    ")\n",
    "plt.title(\"Distribución de Iris por especie (Sepal)\")\n",
    "plt.show()"
   ]
  },
  {
   "cell_type": "code",
   "execution_count": null,
   "metadata": {},
   "outputs": [],
   "source": [
    "# Convertir el DataFrame de pandas a Spark\n",
    "spark_df = spark.createDataFrame(iris)\n",
    "spark_df.printSchema()\n",
    "spark_df.show(5)"
   ]
  },
  {
   "cell_type": "code",
   "execution_count": null,
   "metadata": {},
   "outputs": [],
   "source": [
    "feature_cols = [\"sepal_length\", \"sepal_width\", \"petal_length\", \"petal_width\"]\n",
    "assembler = VectorAssembler(inputCols=feature_cols, outputCol=\"features\")\n",
    "assembled_df = assembler.transform(spark_df)\n",
    "\n",
    "assembled_df.printSchema()"
   ]
  },
  {
   "cell_type": "code",
   "execution_count": null,
   "metadata": {},
   "outputs": [],
   "source": [
    "kmeans = KMeans(featuresCol=\"features\", k=3, seed=42)\n",
    "model = kmeans.fit(assembled_df)\n",
    "predictions = model.transform(assembled_df)\n",
    "predictions.printSchema()\n",
    "predictions.show(5)"
   ]
  },
  {
   "cell_type": "code",
   "execution_count": null,
   "metadata": {},
   "outputs": [],
   "source": [
    "centers = model.clusterCenters()\n",
    "for i, center in enumerate(centers):\n",
    "    print(f\"Centroide del cluster {i}: {center}\")"
   ]
  },
  {
   "cell_type": "code",
   "execution_count": null,
   "metadata": {},
   "outputs": [],
   "source": [
    "# Listas para guardar resultados\n",
    "ks = list(range(2, 11))\n",
    "wssse_values = []\n",
    "silhouette_values = []\n",
    "\n",
    "# Evaluador para la silueta\n",
    "evaluator = ClusteringEvaluator(\n",
    "    featuresCol=\"features\",\n",
    "    metricName=\"silhouette\",\n",
    "    distanceMeasure=\"squaredEuclidean\"  # O \"cosine\"\n",
    ")\n",
    "\n",
    "for k in ks:\n",
    "    kmeans = KMeans(featuresCol=\"features\", k=k, seed=42)\n",
    "    model = kmeans.fit(assembled_df)\n",
    "    \n",
    "    # WSSSE (inercia)\n",
    "    wssse = model.summary.trainingCost\n",
    "    \n",
    "    # Predicciones para la silueta\n",
    "    predictions = model.transform(assembled_df)\n",
    "    silhouette = evaluator.evaluate(predictions)\n",
    "    \n",
    "    wssse_values.append(wssse)\n",
    "    silhouette_values.append(silhouette)\n",
    "\n",
    "# Mostramos los pares (k, WSSSE, Silhouette)\n",
    "for i, k in enumerate(ks):\n",
    "    print(f\"k={k} => WSSSE={wssse_values[i]:.2f}, Silhouette={silhouette_values[i]:.3f}\")\n"
   ]
  },
  {
   "cell_type": "code",
   "execution_count": null,
   "metadata": {},
   "outputs": [],
   "source": [
    "fig, axes = plt.subplots(1, 2, figsize=(12, 5))\n",
    "\n",
    "# Subplot 1: Inercia\n",
    "axes[0].plot(ks, wssse_values, marker='o', color='b')\n",
    "axes[0].set_xlabel(\"Número de clusters (k)\")\n",
    "axes[0].set_ylabel(\"WSSSE (Inercia)\")\n",
    "axes[0].set_title(\"Método del codo - Inercia\")\n",
    "\n",
    "# Subplot 2: Coef. de Silueta\n",
    "axes[1].plot(ks, silhouette_values, marker='o', color='r')\n",
    "axes[1].set_xlabel(\"Número de clusters (k)\")\n",
    "axes[1].set_ylabel(\"Coeficiente de Silueta\")\n",
    "axes[1].set_title(\"Método del codo - Silueta\")\n",
    "\n",
    "plt.tight_layout()\n",
    "plt.show()"
   ]
  },
  {
   "cell_type": "code",
   "execution_count": null,
   "metadata": {},
   "outputs": [],
   "source": [
    "# K-Means con k=2\n",
    "kmeans_2 = KMeans(featuresCol=\"features\", k=2, seed=42)\n",
    "model_2 = kmeans_2.fit(assembled_df)\n",
    "predictions_2 = model_2.transform(assembled_df)\n",
    "\n",
    "# Convertir a pandas para graficar\n",
    "predictions_2_pd = predictions_2.select(\"sepal_length\", \"sepal_width\", \"prediction\").toPandas()\n",
    "\n",
    "# Gráfico de dispersión (sepal_length vs. sepal_width) coloreado por el clúster\n",
    "plt.figure(figsize=(6, 4))\n",
    "sns.scatterplot(\n",
    "    data=predictions_2_pd,\n",
    "    x=\"sepal_length\",\n",
    "    y=\"sepal_width\",\n",
    "    hue=\"prediction\",\n",
    "    palette=\"Set2\"\n",
    ")\n",
    "plt.title(\"K-Means con 2 Clusters\")\n",
    "plt.show()"
   ]
  },
  {
   "cell_type": "code",
   "execution_count": null,
   "metadata": {},
   "outputs": [],
   "source": [
    "# K-Means con k=3\n",
    "kmeans_3 = KMeans(featuresCol=\"features\", k=3, seed=42)\n",
    "model_3 = kmeans_3.fit(assembled_df)\n",
    "predictions_3 = model_3.transform(assembled_df)\n",
    "\n",
    "# Convertir a pandas para graficar\n",
    "predictions_3_pd = predictions_3.select(\"sepal_length\", \"sepal_width\", \"prediction\").toPandas()\n",
    "\n",
    "# Gráfico de dispersión (sepal_length vs. sepal_width) coloreado por el clúster\n",
    "plt.figure(figsize=(6, 4))\n",
    "sns.scatterplot(\n",
    "    data=predictions_3_pd,\n",
    "    x=\"sepal_length\",\n",
    "    y=\"sepal_width\",\n",
    "    hue=\"prediction\",\n",
    "    palette=\"Set2\"\n",
    ")\n",
    "plt.title(\"K-Means con 3 Clusters\")\n",
    "plt.show()"
   ]
  },
  {
   "cell_type": "code",
   "execution_count": null,
   "metadata": {},
   "outputs": [],
   "source": [
    "# K-Means con k=4\n",
    "kmeans_4 = KMeans(featuresCol=\"features\", k=4, seed=42)\n",
    "model_4 = kmeans_4.fit(assembled_df)\n",
    "predictions_4 = model_4.transform(assembled_df)\n",
    "\n",
    "# Convertir a pandas para graficar\n",
    "predictions_4_pd = predictions_4.select(\"sepal_length\", \"sepal_width\", \"prediction\").toPandas()\n",
    "\n",
    "# Gráfico de dispersión (sepal_length vs. sepal_width) coloreado por el clúster\n",
    "plt.figure(figsize=(6, 4))\n",
    "sns.scatterplot(\n",
    "    data=predictions_4_pd,\n",
    "    x=\"sepal_length\",\n",
    "    y=\"sepal_width\",\n",
    "    hue=\"prediction\",\n",
    "    palette=\"Set2\"\n",
    ")\n",
    "plt.title(\"K-Means con 4 Clusters\")\n",
    "plt.show()"
   ]
  },
  {
   "cell_type": "code",
   "execution_count": null,
   "metadata": {},
   "outputs": [],
   "source": [
    "spark.stop()"
   ]
  }
 ],
 "metadata": {
  "kernelspec": {
   "display_name": "Python 3 (ipykernel)",
   "language": "python",
   "name": "python3"
  },
  "language_info": {
   "codemirror_mode": {
    "name": "ipython",
    "version": 3
   },
   "file_extension": ".py",
   "mimetype": "text/x-python",
   "name": "python",
   "nbconvert_exporter": "python",
   "pygments_lexer": "ipython3",
   "version": "3.11.6"
  }
 },
 "nbformat": 4,
 "nbformat_minor": 2
}
