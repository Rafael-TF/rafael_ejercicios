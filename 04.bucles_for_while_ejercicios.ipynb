{
 "cells": [
  {
   "cell_type": "markdown",
   "id": "d6ba5bce",
   "metadata": {},
   "source": [
    "## Ejercicios - Bucles"
   ]
  },
  {
   "cell_type": "markdown",
   "id": "80012d75",
   "metadata": {},
   "source": [
    "### Ejercicio 1\n",
    "\n",
    "- Dada la siguiente **lista = [1, 2, 3, 4, 5, 6, 7, 8, 9, 10]**, imprimir cada número sumandole 10 unidades utilizando un bucle **`for`**."
   ]
  },
  {
   "cell_type": "code",
   "execution_count": 2,
   "id": "5436374e",
   "metadata": {},
   "outputs": [
    {
     "name": "stdout",
     "output_type": "stream",
     "text": [
      "11\n",
      "12\n",
      "13\n",
      "14\n",
      "15\n",
      "16\n",
      "17\n",
      "18\n",
      "19\n",
      "20\n"
     ]
    }
   ],
   "source": [
    "lista = [1, 2, 3, 4, 5, 6, 7, 8, 9, 10]\n",
    "\n",
    "for i in lista:\n",
    "    print(i + 10)"
   ]
  },
  {
   "cell_type": "code",
   "execution_count": null,
   "id": "b77fc537",
   "metadata": {},
   "outputs": [],
   "source": []
  },
  {
   "cell_type": "code",
   "execution_count": null,
   "id": "4dab770a",
   "metadata": {},
   "outputs": [],
   "source": []
  },
  {
   "cell_type": "markdown",
   "id": "615b834a",
   "metadata": {},
   "source": [
    "### Ejercicio 2\n",
    "- Crea un bucle for que muestre la tabla de multiplicar del 1 al 10 de un número dado por el usuario.\n",
    "- Ejemplo:\n",
    "\n",
    "```html\n",
    "1 x 2 = 2\n",
    "2 x 2 = 4\n",
    "3 x 2 = 6\n",
    "4 x 2 = 8\n",
    "5 x 2 = 10\n",
    "6 x 2 = 12\n",
    "7 x 2 = 14\n",
    "8 x 2 = 16\n",
    "9 x 2 = 18\n",
    "10 x 2 = 20\n",
    "```"
   ]
  },
  {
   "cell_type": "code",
   "execution_count": 5,
   "id": "4c07823e",
   "metadata": {},
   "outputs": [
    {
     "name": "stdout",
     "output_type": "stream",
     "text": [
      "1 x 6 = 6\n",
      "2 x 6 = 12\n",
      "3 x 6 = 18\n",
      "4 x 6 = 24\n",
      "5 x 6 = 30\n",
      "6 x 6 = 36\n",
      "7 x 6 = 42\n",
      "8 x 6 = 48\n",
      "9 x 6 = 54\n",
      "10 x 6 = 60\n"
     ]
    }
   ],
   "source": [
    "numero = int(input(\"Insete un número del 1 al 10\"))\n",
    "\n",
    "for i in range(1, 11):\n",
    "    resultado = i * numero\n",
    "    print(f\"{i} x {numero} = {resultado}\")"
   ]
  },
  {
   "cell_type": "code",
   "execution_count": null,
   "id": "c2777e61",
   "metadata": {},
   "outputs": [],
   "source": []
  },
  {
   "cell_type": "code",
   "execution_count": null,
   "id": "b5426c6d",
   "metadata": {},
   "outputs": [],
   "source": []
  },
  {
   "cell_type": "markdown",
   "id": "3c8a4c44",
   "metadata": {},
   "source": [
    "### Ejercicio 3\n",
    "- Crear una lista vacia.\n",
    "- Llenar la lista con los numero del 200 al 215 usando un bucle **`for`**."
   ]
  },
  {
   "cell_type": "code",
   "execution_count": 7,
   "id": "92d1be47",
   "metadata": {},
   "outputs": [
    {
     "name": "stdout",
     "output_type": "stream",
     "text": [
      "[200]\n",
      "[200, 201]\n",
      "[200, 201, 202]\n",
      "[200, 201, 202, 203]\n",
      "[200, 201, 202, 203, 204]\n",
      "[200, 201, 202, 203, 204, 205]\n",
      "[200, 201, 202, 203, 204, 205, 206]\n",
      "[200, 201, 202, 203, 204, 205, 206, 207]\n",
      "[200, 201, 202, 203, 204, 205, 206, 207, 208]\n",
      "[200, 201, 202, 203, 204, 205, 206, 207, 208, 209]\n",
      "[200, 201, 202, 203, 204, 205, 206, 207, 208, 209, 210]\n",
      "[200, 201, 202, 203, 204, 205, 206, 207, 208, 209, 210, 211]\n",
      "[200, 201, 202, 203, 204, 205, 206, 207, 208, 209, 210, 211, 212]\n",
      "[200, 201, 202, 203, 204, 205, 206, 207, 208, 209, 210, 211, 212, 213]\n",
      "[200, 201, 202, 203, 204, 205, 206, 207, 208, 209, 210, 211, 212, 213, 214]\n",
      "[200, 201, 202, 203, 204, 205, 206, 207, 208, 209, 210, 211, 212, 213, 214, 215]\n"
     ]
    }
   ],
   "source": [
    "lista = []\n",
    "\n",
    "for numero in range(200, 216):\n",
    "    lista.append(numero)\n",
    "    print(lista)"
   ]
  },
  {
   "cell_type": "code",
   "execution_count": null,
   "id": "f0855161",
   "metadata": {},
   "outputs": [],
   "source": []
  },
  {
   "cell_type": "code",
   "execution_count": null,
   "id": "864fac96",
   "metadata": {},
   "outputs": [],
   "source": []
  },
  {
   "cell_type": "markdown",
   "id": "073bada8",
   "metadata": {},
   "source": [
    "### Ejercicio 4\n",
    "- Crea una lista de números pares entre el 555 y el 599 utilizando bucle **`for`**."
   ]
  },
  {
   "cell_type": "code",
   "execution_count": 2,
   "id": "2ea6dc60",
   "metadata": {
    "scrolled": true
   },
   "outputs": [
    {
     "name": "stdout",
     "output_type": "stream",
     "text": [
      "[556, 558, 560, 562, 564, 566, 568, 570, 572, 574, 576, 578, 580, 582, 584, 586, 588, 590, 592, 594, 596, 598]\n"
     ]
    }
   ],
   "source": [
    "lista_pares = []\n",
    "\n",
    "for numero in range(555, 600):\n",
    "    \n",
    "    if numero % 2 == 0:\n",
    "        \n",
    "        lista_pares.append(numero)\n",
    "         \n",
    "print(lista_pares)"
   ]
  },
  {
   "cell_type": "code",
   "execution_count": null,
   "id": "e361b1ba",
   "metadata": {},
   "outputs": [],
   "source": []
  },
  {
   "cell_type": "code",
   "execution_count": null,
   "id": "18fb0d85",
   "metadata": {},
   "outputs": [],
   "source": []
  },
  {
   "cell_type": "markdown",
   "id": "282e98c2",
   "metadata": {},
   "source": [
    "### Ejercicio 5\n",
    "- Crea un bucle for que sume los valores de la siguiente lista: **[51, 52, 53, 54, 55]**."
   ]
  },
  {
   "cell_type": "code",
   "execution_count": 5,
   "id": "3d4d4485",
   "metadata": {},
   "outputs": [
    {
     "name": "stdout",
     "output_type": "stream",
     "text": [
      "La suma total es: 265\n"
     ]
    }
   ],
   "source": [
    "lista_numeros = [51, 52, 53, 54, 55]\n",
    "\n",
    "suma_total = 0\n",
    "\n",
    "for numero in lista_numeros:\n",
    "    \n",
    "    suma_total += numero\n",
    "    \n",
    "print(f\"La suma total es: {suma_total}\")"
   ]
  },
  {
   "cell_type": "code",
   "execution_count": null,
   "id": "30c815f0",
   "metadata": {},
   "outputs": [],
   "source": []
  },
  {
   "cell_type": "code",
   "execution_count": null,
   "id": "dee25278",
   "metadata": {},
   "outputs": [],
   "source": []
  },
  {
   "cell_type": "markdown",
   "id": "ac9f3703",
   "metadata": {},
   "source": [
    "### Ejercicio 6\n",
    "- Crea una lista con 5 elementos y cada elemento de esa lista, va a ser una lista con los siguientes datos: **[1, 2, 3]**, utiliza 2 **`for`** anidados.\n",
    "\n",
    "- Resultado: [[1, 2, 3], [1, 2, 3], [1, 2, 3], [1, 2, 3], [1, 2, 3]]"
   ]
  },
  {
   "cell_type": "code",
   "execution_count": 1,
   "id": "70ba6e94",
   "metadata": {},
   "outputs": [
    {
     "name": "stdout",
     "output_type": "stream",
     "text": [
      "[[1, 2, 3], [1, 2, 3], [1, 2, 3], [1, 2, 3], [1, 2, 3]]\n"
     ]
    }
   ],
   "source": [
    "lista = []\n",
    "\n",
    "for i in range(5):\n",
    "    \n",
    "    sublista = []\n",
    "    \n",
    "    for numero in range(1, 4):\n",
    "        \n",
    "        sublista.append(numero)\n",
    "        \n",
    "    lista.append(sublista) \n",
    "        \n",
    "print(lista)"
   ]
  },
  {
   "cell_type": "code",
   "execution_count": null,
   "id": "c40c21e9",
   "metadata": {},
   "outputs": [],
   "source": []
  },
  {
   "cell_type": "code",
   "execution_count": null,
   "id": "beeacbeb",
   "metadata": {},
   "outputs": [],
   "source": []
  },
  {
   "cell_type": "markdown",
   "id": "b7bb3dcc",
   "metadata": {},
   "source": [
    "### Ejercicio 7\n",
    "- Crea un bucle que cuente del 10 al 1."
   ]
  },
  {
   "cell_type": "code",
   "execution_count": 6,
   "id": "ac6f8092",
   "metadata": {},
   "outputs": [
    {
     "name": "stdout",
     "output_type": "stream",
     "text": [
      "10\n",
      "9\n",
      "8\n",
      "7\n",
      "6\n",
      "5\n",
      "4\n",
      "3\n",
      "2\n",
      "1\n"
     ]
    }
   ],
   "source": [
    "\n",
    "for numero in range(10, 0, -1):\n",
    "    \n",
    "   print(numero)\n",
    "    \n",
    "  "
   ]
  },
  {
   "cell_type": "code",
   "execution_count": null,
   "id": "22d3a338",
   "metadata": {},
   "outputs": [],
   "source": []
  },
  {
   "cell_type": "code",
   "execution_count": null,
   "id": "9153024c",
   "metadata": {},
   "outputs": [],
   "source": []
  },
  {
   "cell_type": "markdown",
   "id": "6d158465",
   "metadata": {},
   "source": [
    "### Ejercicio 8\n",
    "- Crea dos variables llamadas **par** e **impar** e inicializalas en 0.\n",
    "- Dada la siguiente lista de números = **[10, 7, 8, 3, 5, 2, 71, 21, 88]**, crea un bucle que recorra la lista y sume los números pares a la variable **par** y sume los números impares a la variable **impares**."
   ]
  },
  {
   "cell_type": "code",
   "execution_count": 12,
   "id": "df34a94b",
   "metadata": {},
   "outputs": [
    {
     "name": "stdout",
     "output_type": "stream",
     "text": [
      "Suma de los pares: 108\n",
      "Suma de los impares: 107\n"
     ]
    }
   ],
   "source": [
    "lista = [10, 7, 8, 3, 5, 2, 71, 21, 88]\n",
    "\n",
    "par = 0\n",
    "impar = 0\n",
    "\n",
    "for numero in lista:\n",
    "    \n",
    "    if numero % 2 == 0:\n",
    "        \n",
    "        par += numero\n",
    "    \n",
    "    else:\n",
    "        \n",
    "        impar += numero\n",
    "        \n",
    "print(f\"Suma de los pares: {par}\")\n",
    "print(f\"Suma de los impares: {impar}\")"
   ]
  },
  {
   "cell_type": "code",
   "execution_count": 3,
   "id": "0fa5dcb9",
   "metadata": {},
   "outputs": [
    {
     "name": "stdout",
     "output_type": "stream",
     "text": [
      "Suma de los pares: 108\n",
      "Suma de los impares: 107\n"
     ]
    }
   ],
   "source": [
    "# MÉTODO MÁS COMPACTO\n",
    "\n",
    "lista = [10, 7, 8, 3, 5, 2, 71, 21, 88]\n",
    "\n",
    "par = sum(numero for numero in lista if numero % 2 == 0)\n",
    "impar = sum(numero for numero in lista if numero % 2 != 0)\n",
    "\n",
    "print(f\"Suma de los pares: {par}\")\n",
    "print(f\"Suma de los impares: {impar}\")"
   ]
  },
  {
   "cell_type": "code",
   "execution_count": null,
   "id": "24925fcc",
   "metadata": {},
   "outputs": [],
   "source": []
  },
  {
   "cell_type": "markdown",
   "id": "367b6971",
   "metadata": {},
   "source": [
    "### Ejercicio 9\n",
    "- Crea una lista con 5 colores diferentes.\n",
    "- Y con bucles anidados imprime las letras de los colores."
   ]
  },
  {
   "cell_type": "code",
   "execution_count": 14,
   "id": "01085cd1",
   "metadata": {},
   "outputs": [
    {
     "name": "stdout",
     "output_type": "stream",
     "text": [
      "Letras del color 'rojo':\n",
      "r\n",
      "o\n",
      "j\n",
      "o\n",
      "\n",
      "Letras del color 'blanco':\n",
      "b\n",
      "l\n",
      "a\n",
      "n\n",
      "c\n",
      "o\n",
      "\n",
      "Letras del color 'azul':\n",
      "a\n",
      "z\n",
      "u\n",
      "l\n",
      "\n",
      "Letras del color 'verde':\n",
      "v\n",
      "e\n",
      "r\n",
      "d\n",
      "e\n",
      "\n",
      "Letras del color 'violeta':\n",
      "v\n",
      "i\n",
      "o\n",
      "l\n",
      "e\n",
      "t\n",
      "a\n",
      "\n"
     ]
    }
   ],
   "source": [
    "lista_colores = [\"rojo\", \"blanco\", \"azul\", \"verde\", \"violeta\"]\n",
    "\n",
    "for color in lista_colores:\n",
    "    print(f\"Letras del color '{color}':\")\n",
    "    \n",
    "    for letra in color:\n",
    "        \n",
    "        print(letra)\n",
    "    \n",
    "    print()"
   ]
  },
  {
   "cell_type": "code",
   "execution_count": null,
   "id": "162f2a39",
   "metadata": {},
   "outputs": [],
   "source": []
  },
  {
   "cell_type": "code",
   "execution_count": null,
   "id": "976981fa",
   "metadata": {},
   "outputs": [],
   "source": []
  },
  {
   "cell_type": "markdown",
   "id": "bf59c876",
   "metadata": {},
   "source": [
    "### Ejercicio 10\n",
    "- Imprimir el índice y valor de cada elemento de la **lista = [-5, -4, -3, -2, -1, 0, 1, 2, 3, 4, 5]** utilizando un bucle **for**."
   ]
  },
  {
   "cell_type": "code",
   "execution_count": 19,
   "id": "db8dad4b",
   "metadata": {},
   "outputs": [
    {
     "name": "stdout",
     "output_type": "stream",
     "text": [
      "Índice: 0, Valor: -5\n",
      "Índice: 1, Valor: -4\n",
      "Índice: 2, Valor: -3\n",
      "Índice: 3, Valor: -2\n",
      "Índice: 4, Valor: -1\n",
      "Índice: 5, Valor: 0\n",
      "Índice: 6, Valor: 1\n",
      "Índice: 7, Valor: 2\n",
      "Índice: 8, Valor: 3\n",
      "Índice: 9, Valor: 4\n",
      "Índice: 10, Valor: 5\n"
     ]
    }
   ],
   "source": [
    "lista = [-5, -4, -3, -2, -1, 0, 1, 2, 3, 4, 5]\n",
    "\n",
    "for i in range(len(lista)):\n",
    "    \n",
    "    print(f\"Índice: {i}, Valor: {lista[i]}\")"
   ]
  },
  {
   "cell_type": "code",
   "execution_count": null,
   "id": "3b6f62e5",
   "metadata": {},
   "outputs": [],
   "source": []
  },
  {
   "cell_type": "code",
   "execution_count": null,
   "id": "70bbdb9a",
   "metadata": {},
   "outputs": [],
   "source": []
  },
  {
   "cell_type": "markdown",
   "id": "eb2b14d4",
   "metadata": {},
   "source": [
    "### Ejercicio 11\n",
    "- Crea un bucle **while** donde le pregunte al usuario un número y si ese número es impar el programa se detiene."
   ]
  },
  {
   "cell_type": "code",
   "execution_count": 4,
   "id": "1f61356a",
   "metadata": {},
   "outputs": [],
   "source": [
    "while True:\n",
    "    \n",
    "    numero = int(input(\"Introduzca un número\"))\n",
    "    \n",
    "    if numero % 2 == 0:\n",
    "    \n",
    "        input(f\"El número {numero} es impar. Fin del programa.\")\n",
    "        break\n",
    "\n",
    "    else:\n",
    "        \n",
    "        print(f\"El número {numero} es par. Intente nuevamente.\")\n",
    "        break"
   ]
  },
  {
   "cell_type": "code",
   "execution_count": null,
   "id": "76f2453d",
   "metadata": {},
   "outputs": [],
   "source": []
  },
  {
   "cell_type": "code",
   "execution_count": null,
   "id": "63488bdc",
   "metadata": {},
   "outputs": [],
   "source": []
  },
  {
   "cell_type": "markdown",
   "id": "506b594c",
   "metadata": {},
   "source": [
    "### Ejercicio 12\n",
    "- Pide al usuario una frase.\n",
    "- Has un bucle que recorra la frase y que imprima las letras de la frase y cuantas veces aparece."
   ]
  },
  {
   "cell_type": "code",
   "execution_count": 5,
   "id": "6d5eed1e",
   "metadata": {},
   "outputs": [
    {
     "name": "stdout",
     "output_type": "stream",
     "text": [
      "Letra: 'H', Aparece: 1 veces\n",
      "Letra: 'o', Aparece: 2 veces\n",
      "Letra: 'l', Aparece: 1 veces\n",
      "Letra: 'a', Aparece: 1 veces\n",
      "Letra: ' ', Aparece: 1 veces\n",
      "Letra: 'm', Aparece: 1 veces\n",
      "Letra: 'u', Aparece: 1 veces\n",
      "Letra: 'n', Aparece: 1 veces\n",
      "Letra: 'd', Aparece: 1 veces\n",
      "Letra: 'o', Aparece: 2 veces\n"
     ]
    }
   ],
   "source": [
    "frase = input(\"Introduzca una frase: \")\n",
    "\n",
    "letras_procesadas = []\n",
    "\n",
    "for letra in frase:\n",
    "    \n",
    "    letras_procesadas.append(letra)\n",
    "    \n",
    "    print(f\"Letra: '{letra}', Aparece: {frase.count(letra)} veces\")\n",
    "    "
   ]
  },
  {
   "cell_type": "code",
   "execution_count": null,
   "id": "7589273f",
   "metadata": {},
   "outputs": [],
   "source": []
  },
  {
   "cell_type": "code",
   "execution_count": null,
   "id": "c80fb589",
   "metadata": {},
   "outputs": [],
   "source": []
  },
  {
   "cell_type": "code",
   "execution_count": null,
   "id": "ed860fac-20fd-4ac9-a1a5-cb60a7d96bc5",
   "metadata": {},
   "outputs": [],
   "source": [
    "##############################################################################################################################"
   ]
  }
 ],
 "metadata": {
  "kernelspec": {
   "display_name": "Python 3 (ipykernel)",
   "language": "python",
   "name": "python3"
  },
  "language_info": {
   "codemirror_mode": {
    "name": "ipython",
    "version": 3
   },
   "file_extension": ".py",
   "mimetype": "text/x-python",
   "name": "python",
   "nbconvert_exporter": "python",
   "pygments_lexer": "ipython3",
   "version": "3.13.1"
  }
 },
 "nbformat": 4,
 "nbformat_minor": 5
}
