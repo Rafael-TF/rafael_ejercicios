{
 "cells": [
  {
   "cell_type": "markdown",
   "metadata": {},
   "source": [
    "# Modelo de Regresión"
   ]
  },
  {
   "cell_type": "code",
   "execution_count": 1,
   "metadata": {},
   "outputs": [],
   "source": [
    "import pandas as pd\n",
    "import seaborn as sns\n",
    "import numpy as np\n",
    "import joblib\n",
    "from sklearn.model_selection import train_test_split\n",
    "from sklearn.pipeline import make_pipeline\n",
    "from sklearn.impute import SimpleImputer\n",
    "from sklearn.preprocessing import MinMaxScaler, OneHotEncoder, StandardScaler\n",
    "from sklearn.ensemble import RandomForestRegressor, GradientBoostingRegressor\n",
    "from sklearn.linear_model import LinearRegression\n",
    "from sklearn.compose import make_column_transformer\n",
    "from sklearn.metrics import mean_absolute_error, mean_squared_error, r2_score\n",
    "\n",
    "# =================== Cargar Datos ===================\n",
    "df = sns.load_dataset(\"diamonds\")\n",
    "\n",
    "# Definir variables predictoras y objetivo\n",
    "X = df.drop(columns=[\"price\"])\n",
    "y = df[\"price\"]\n",
    "\n",
    "# Identificar tipos de columnas\n",
    "categorical_cols = X.select_dtypes(include=[\"object\", \"category\"]).columns.tolist()\n",
    "numerical_cols = X.select_dtypes(include=[\"int64\", \"float64\"]).columns.tolist()"
   ]
  },
  {
   "cell_type": "code",
   "execution_count": 2,
   "metadata": {},
   "outputs": [],
   "source": [
    "# =================== Preprocesamiento ===================\n",
    "numerical_pipeline = make_pipeline(\n",
    "    SimpleImputer(strategy='median'),\n",
    "    StandardScaler()\n",
    ")\n",
    "\n",
    "categorical_pipeline = make_pipeline(\n",
    "    SimpleImputer(strategy='most_frequent'),\n",
    "    OneHotEncoder(handle_unknown='ignore', sparse_output=False)\n",
    ")\n",
    "\n",
    "preprocessor = make_column_transformer(\n",
    "    (numerical_pipeline, numerical_cols),\n",
    "    (categorical_pipeline, categorical_cols)\n",
    ")"
   ]
  },
  {
   "cell_type": "code",
   "execution_count": 3,
   "metadata": {},
   "outputs": [
    {
     "name": "stdout",
     "output_type": "stream",
     "text": [
      "Regresión Lineal: MAE=737.15, RMSE=1288705.48, R²=0.92\n",
      "Random Forest: MAE=270.16, RMSE=303125.65, R²=0.98\n",
      "Gradient Boosting: MAE=398.09, RMSE=517483.05, R²=0.97\n"
     ]
    }
   ],
   "source": [
    "# =================== División de Datos ===================\n",
    "X_train, X_test, y_train, y_test = train_test_split(X, y, test_size=0.2, random_state=42)\n",
    "\n",
    "# =================== Entrenamiento de Modelos ===================\n",
    "modelos = {\n",
    "    \"Regresión Lineal\": LinearRegression(),\n",
    "    \"Random Forest\": RandomForestRegressor(n_estimators=100, random_state=42),\n",
    "    \"Gradient Boosting\": GradientBoostingRegressor(n_estimators=100, learning_rate=0.1, random_state=42)\n",
    "}\n",
    "\n",
    "mejores_resultados = {}\n",
    "\n",
    "for nombre, modelo in modelos.items():\n",
    "    pipeline = make_pipeline(preprocessor, modelo)\n",
    "    pipeline.fit(X_train, y_train)\n",
    "    y_pred = pipeline.predict(X_test)\n",
    "    \n",
    "    mae = mean_absolute_error(y_test, y_pred)\n",
    "    rmse = mean_squared_error(y_test, y_pred)\n",
    "    r2 = r2_score(y_test, y_pred)\n",
    "    \n",
    "    mejores_resultados[nombre] = {\n",
    "        \"Modelo\": pipeline,\n",
    "        \"MAE\": mae,\n",
    "        \"RMSE\": rmse,\n",
    "        \"R²\": r2\n",
    "    }\n",
    "    \n",
    "    print(f\"{nombre}: MAE={mae:.2f}, RMSE={rmse:.2f}, R²={r2:.2f}\")\n",
    "    "
   ]
  },
  {
   "cell_type": "code",
   "execution_count": 4,
   "metadata": {},
   "outputs": [
    {
     "name": "stdout",
     "output_type": "stream",
     "text": [
      "\n",
      "Mejor modelo seleccionado: Random Forest\n",
      "Modelo guardado como '../models/model_regression.joblib'\n"
     ]
    }
   ],
   "source": [
    "# =================== Selección del Mejor Modelo ===================\n",
    "import os\n",
    "\n",
    "\n",
    "mejor_modelo_nombre = min(mejores_resultados, key=lambda x: mejores_resultados[x][\"MAE\"])\n",
    "mejor_modelo = mejores_resultados[mejor_modelo_nombre][\"Modelo\"]\n",
    "\n",
    "print(f\"\\nMejor modelo seleccionado: {mejor_modelo_nombre}\")\n",
    "\n",
    "# =================== Crear carpeta models si no existe ===================\n",
    "models_dir = \"../models\"\n",
    "if not os.path.exists(models_dir):\n",
    "    os.makedirs(models_dir)\n",
    "    print(f\"Carpeta '{models_dir}' creada.\")\n",
    "\n",
    "# =================== Exportar el Modelo ===================\n",
    "model_path = os.path.join(models_dir, \"model_regression.joblib\")\n",
    "joblib.dump(mejor_modelo, model_path)\n",
    "print(f\"Modelo guardado como '{model_path}'\")"
   ]
  }
 ],
 "metadata": {
  "kernelspec": {
   "display_name": "base",
   "language": "python",
   "name": "python3"
  },
  "language_info": {
   "codemirror_mode": {
    "name": "ipython",
    "version": 3
   },
   "file_extension": ".py",
   "mimetype": "text/x-python",
   "name": "python",
   "nbconvert_exporter": "python",
   "pygments_lexer": "ipython3",
   "version": "3.12.7"
  }
 },
 "nbformat": 4,
 "nbformat_minor": 2
}
