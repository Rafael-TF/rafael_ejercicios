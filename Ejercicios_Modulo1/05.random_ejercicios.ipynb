{
 "cells": [
  {
   "cell_type": "markdown",
   "id": "3b9c8335",
   "metadata": {},
   "source": [
    "## Ejercicios - random"
   ]
  },
  {
   "cell_type": "code",
   "execution_count": 3,
   "id": "ed13011e",
   "metadata": {},
   "outputs": [],
   "source": [
    "import random"
   ]
  },
  {
   "cell_type": "markdown",
   "id": "eca8b13f",
   "metadata": {},
   "source": [
    "### Ejercicio 1\n",
    "- Crea una lista de 10 numeros enteros aleatorios entre el rango de 10 y 20 utilizando la función random.randint()"
   ]
  },
  {
   "cell_type": "code",
   "execution_count": 5,
   "id": "a9c5468a",
   "metadata": {},
   "outputs": [
    {
     "data": {
      "text/plain": [
       "[20, 11, 19, 19, 14, 18, 11, 20, 17, 15]"
      ]
     },
     "execution_count": 5,
     "metadata": {},
     "output_type": "execute_result"
    }
   ],
   "source": [
    "lista = []\n",
    "\n",
    "for i in range(10):\n",
    "    \n",
    "    numero = random.randint(10, 20)\n",
    "    lista.append(numero)\n",
    "    \n",
    "lista"
   ]
  },
  {
   "cell_type": "code",
   "execution_count": null,
   "id": "91329916",
   "metadata": {},
   "outputs": [],
   "source": []
  },
  {
   "cell_type": "code",
   "execution_count": null,
   "id": "afeb807a",
   "metadata": {},
   "outputs": [],
   "source": []
  },
  {
   "cell_type": "markdown",
   "id": "fc1a19d0",
   "metadata": {},
   "source": [
    "### Ejercicio 2\n",
    "- Crea una lista de 10 numeros enteros aleatorios entre el rango de 10 y 20 sin utilizar la función random.randint()"
   ]
  },
  {
   "cell_type": "code",
   "execution_count": 5,
   "id": "0985d30a",
   "metadata": {},
   "outputs": [
    {
     "name": "stdout",
     "output_type": "stream",
     "text": [
      "15\n",
      "14\n",
      "16\n",
      "14\n",
      "10\n",
      "17\n",
      "12\n",
      "16\n",
      "13\n",
      "14\n"
     ]
    }
   ],
   "source": [
    "for i in range(10):\n",
    "    \n",
    "    print(random.randrange(10, 20))"
   ]
  },
  {
   "cell_type": "code",
   "execution_count": null,
   "id": "b04bcddf",
   "metadata": {},
   "outputs": [],
   "source": []
  },
  {
   "cell_type": "code",
   "execution_count": null,
   "id": "07139a13",
   "metadata": {},
   "outputs": [],
   "source": []
  },
  {
   "cell_type": "markdown",
   "id": "381a2b23",
   "metadata": {},
   "source": [
    "### Ejercicio 3\n",
    "- Genera una lista de 100 numero enteros aleatorios entre 0 y 100.\n",
    "- Genera otra lista con solo los números pares de la primera lista.\n",
    "\n",
    "- Extra: Hacer este ejercicio usando 1 solo bucle."
   ]
  },
  {
   "cell_type": "code",
   "execution_count": 6,
   "id": "ed54e490",
   "metadata": {
    "scrolled": true
   },
   "outputs": [
    {
     "name": "stdout",
     "output_type": "stream",
     "text": [
      "[87, 83, 18, 14, 59, 18, 80, 33, 8, 99, 3, 17, 14, 42, 97, 68, 46, 14, 80, 75, 67, 71, 64, 65, 86, 83, 81, 80, 46, 6, 30, 46, 80, 10, 75, 14, 5, 41, 35, 38, 83, 75, 58, 74, 71, 31, 57, 94, 31, 75, 11, 72, 7, 43, 72, 42, 19, 18, 98, 70, 79, 84, 95, 83, 56, 40, 74, 17, 55, 85, 68, 36, 81, 53, 99, 23, 66, 35, 62, 59, 72, 63, 78, 26, 38, 62, 35, 2, 92, 64, 30, 96, 97, 54, 40, 16, 13, 52, 48, 66]\n"
     ]
    }
   ],
   "source": [
    "lista = []\n",
    "\n",
    "for i in range(100):\n",
    "    \n",
    "    lista.append(random.randrange(0, 100))\n",
    "    \n",
    "print(lista)"
   ]
  },
  {
   "cell_type": "code",
   "execution_count": 8,
   "id": "570ff2b3",
   "metadata": {},
   "outputs": [
    {
     "name": "stdout",
     "output_type": "stream",
     "text": [
      "[18, 14, 18, 80, 8, 14, 42, 68, 46, 14, 80, 64, 86, 80, 46, 6, 30, 46, 80, 10, 14, 38, 58, 74, 94, 72, 72, 42, 18, 98, 70, 84, 56, 40, 74, 68, 36, 66, 62, 72, 78, 26, 38, 62, 2, 92, 64, 30, 96, 54, 40, 16, 52, 48, 66]\n"
     ]
    }
   ],
   "source": [
    "lista_par = []\n",
    "\n",
    "for numero in lista:\n",
    "    \n",
    "    if numero % 2 == 0:\n",
    "        \n",
    "        lista_par.append(numero)\n",
    "        \n",
    "print(lista_par)"
   ]
  },
  {
   "cell_type": "code",
   "execution_count": 16,
   "id": "8ac4e27c",
   "metadata": {},
   "outputs": [
    {
     "name": "stdout",
     "output_type": "stream",
     "text": [
      "Lista:\n",
      "[5, 38, 33, 47, 75, 35, 69, 75, 11, 93, 11, 99, 17, 64, 16, 97, 85, 16, 79, 48, 62, 93, 6, 14, 73, 27, 44, 56, 74, 80, 5, 61, 1, 83, 32, 21, 55, 22, 13, 33, 52, 72, 84, 96, 98, 25, 53, 70, 56, 53, 11, 77, 27, 56, 31, 89, 18, 61, 72, 97, 47, 15, 65, 49, 46, 62, 51, 10, 32, 76, 31, 33, 29, 58, 10, 3, 47, 6, 93, 76, 93, 1, 16, 65, 26, 81, 91, 3, 83, 85, 20, 69, 30, 14, 79, 94, 44, 3, 19, 28]\n",
      "Lista par:\n",
      "[84, 84, 84, 84, 84, 84, 84, 84, 84, 84, 84, 84, 84, 84, 84, 84, 84, 84, 84, 84, 84, 84, 84, 84, 84, 84, 84, 84, 84, 84, 84, 84, 84, 84, 84, 84, 84, 84, 84, 84, 84, 84, 84, 84, 84, 84, 84, 84, 84, 84, 84, 84, 84, 84, 84, 84, 84, 84, 84, 84, 84, 84, 84, 84, 84, 84, 84, 84, 84, 84, 84, 84, 84, 84, 84, 84, 84, 84, 84, 84, 84, 84, 84, 84, 84, 84, 84, 84, 84, 84, 84, 84, 84, 84, 84, 84, 84, 84, 84, 84]\n"
     ]
    }
   ],
   "source": [
    "lista = []\n",
    "\n",
    "lista_par = []\n",
    "\n",
    "for i in range(100):\n",
    "    \n",
    "    lista.append(random.randrange(0, 100))\n",
    "    \n",
    "    if numero % 2 == 0:\n",
    "        \n",
    "        lista_par.append(numero)\n",
    "\n",
    "print(\"Lista:\")\n",
    "print(lista)\n",
    "print(\"Lista par:\")\n",
    "print(lista_par)       \n"
   ]
  },
  {
   "cell_type": "code",
   "execution_count": null,
   "id": "3989b760",
   "metadata": {},
   "outputs": [],
   "source": [
    "##############################################################################################################################"
   ]
  }
 ],
 "metadata": {
  "kernelspec": {
   "display_name": "Python 3 (ipykernel)",
   "language": "python",
   "name": "python3"
  },
  "language_info": {
   "codemirror_mode": {
    "name": "ipython",
    "version": 3
   },
   "file_extension": ".py",
   "mimetype": "text/x-python",
   "name": "python",
   "nbconvert_exporter": "python",
   "pygments_lexer": "ipython3",
   "version": "3.13.1"
  }
 },
 "nbformat": 4,
 "nbformat_minor": 5
}
