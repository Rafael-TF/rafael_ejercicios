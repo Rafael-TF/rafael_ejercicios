{
 "cells": [
  {
   "cell_type": "markdown",
   "id": "cc6f0931",
   "metadata": {},
   "source": [
    "## Ejecicios - Condicionales"
   ]
  },
  {
   "cell_type": "markdown",
   "id": "45bf39fc",
   "metadata": {},
   "source": [
    "### Ejercicio 1\n",
    "\n",
    "- Perdirle al usuario que ingrese un número mayor a 0\n",
    "- Luego que imprima por pantalla si el número es par o impar."
   ]
  },
  {
   "cell_type": "code",
   "execution_count": 9,
   "id": "4047176c",
   "metadata": {},
   "outputs": [
    {
     "name": "stdout",
     "output_type": "stream",
     "text": [
      "El número 5 es impar.\n"
     ]
    }
   ],
   "source": [
    "numero = int(input(\"Ingrese un número mayor que 0:\"))\n",
    "\n",
    "if numero % 2 == 0:\n",
    "        print(f\"El número {numero} es par.\")\n",
    "else:\n",
    "        print(f\"El número {numero} es impar.\")"
   ]
  },
  {
   "cell_type": "code",
   "execution_count": null,
   "id": "b98b7cc7",
   "metadata": {},
   "outputs": [],
   "source": [
    "\n"
   ]
  },
  {
   "cell_type": "markdown",
   "id": "50f7c887",
   "metadata": {},
   "source": [
    "### Ejercicio 2\n",
    "- Pedirle al usuario que ingrese una palabra.\n",
    "- Contar el número de letras y decir si es una palabra larga (10 caracteres o más) o corta."
   ]
  },
  {
   "cell_type": "code",
   "execution_count": 12,
   "id": "dd695bac",
   "metadata": {},
   "outputs": [
    {
     "name": "stdout",
     "output_type": "stream",
     "text": [
      "La palabra esternocleidomastoideo tiene 10 caracteres o mas\n"
     ]
    }
   ],
   "source": [
    "palabra = input(\"Introduzca una palabra\")\n",
    "\n",
    "if len(palabra) >= 10:\n",
    "    print(f\"La palabra {palabra} tiene 10 caracteres o más\")\n",
    "    \n",
    "else:\n",
    "    print(f\"La palabra {palabra} tiene menos de 10 caracteres\")"
   ]
  },
  {
   "cell_type": "code",
   "execution_count": null,
   "id": "9fbdea13",
   "metadata": {},
   "outputs": [],
   "source": []
  },
  {
   "cell_type": "code",
   "execution_count": null,
   "id": "8f385606",
   "metadata": {},
   "outputs": [],
   "source": []
  },
  {
   "cell_type": "markdown",
   "id": "c3b58038",
   "metadata": {},
   "source": [
    "### Ejercicio 3\n",
    "- Pedirle al usuario que ingrese una palabra.\n",
    "- Contar cuantas vocales tiene e imprimir cuantas hay de cada una.\n",
    "- Luego imprimir por pantalla si tiene más vocales que consonantes."
   ]
  },
  {
   "cell_type": "code",
   "execution_count": 15,
   "id": "e31e702d",
   "metadata": {},
   "outputs": [
    {
     "name": "stdout",
     "output_type": "stream",
     "text": [
      "a: 2, e: 1, i: 0, o: 0, u: 0\n",
      "La palabra 'rafael' tiene más consonantes (3) que vocales (3).\n"
     ]
    }
   ],
   "source": [
    "palabra = input(\"Introduzca una palabra\").lower()\n",
    "\n",
    "vocales = \"aeiou\" \n",
    "\n",
    "vocales = \"aeiou\"\n",
    "conteo_a = palabra.count(\"a\")\n",
    "conteo_e = palabra.count(\"e\")\n",
    "conteo_i = palabra.count(\"i\")\n",
    "conteo_o = palabra.count(\"o\")\n",
    "conteo_u = palabra.count(\"u\")\n",
    "\n",
    "total_vocales = conteo_a + conteo_e + conteo_i + conteo_o + conteo_u\n",
    "\n",
    "total_consonantes = len(palabra) - total_vocales\n",
    "\n",
    "print(f\"a: {conteo_a}, e: {conteo_e}, i: {conteo_i}, o: {conteo_o}, u: {conteo_u}\")\n",
    "\n",
    "if total_vocales > total_consonantes:\n",
    "    print(f\"La palabra '{palabra}' tiene más vocales ({total_vocales}) que consonantes ({total_consonantes}).\")\n",
    "else:\n",
    "    print(f\"La palabra '{palabra}' tiene más consonantes ({total_consonantes}) que vocales ({total_vocales}).\")"
   ]
  },
  {
   "cell_type": "code",
   "execution_count": null,
   "id": "21726bb9",
   "metadata": {},
   "outputs": [],
   "source": []
  },
  {
   "cell_type": "code",
   "execution_count": null,
   "id": "0e3bb7e3",
   "metadata": {},
   "outputs": [],
   "source": []
  },
  {
   "cell_type": "markdown",
   "id": "c075c77b",
   "metadata": {},
   "source": [
    "### Ejercicio 4\n",
    "- Pedir al usuario que ingrese una frase.\n",
    "- Contar el número de palabras.\n",
    "- Si el número de palabras es impar imprimir \"El número de palabras es impar\" de lo contrario imprimir \"El número de palabras es par\"."
   ]
  },
  {
   "cell_type": "code",
   "execution_count": 12,
   "id": "67962e21",
   "metadata": {},
   "outputs": [
    {
     "name": "stdout",
     "output_type": "stream",
     "text": [
      "El número de palabras intoducidas son 4\n",
      "El número de palabras es par\n"
     ]
    }
   ],
   "source": [
    "frase = input(\"Ingrese una frase\")\n",
    "\n",
    "palabras = frase.split()\n",
    "\n",
    "numero_palabras = len(palabras)\n",
    "print(f\"El número de palabras intoducidas son {numero_palabras}\")\n",
    "\n",
    "if numero_palabras % 2 == 0:\n",
    "    print(f\"El número de palabras es par\")\n",
    "\n",
    "else:\n",
    "    print(f\"El número de palabras es impar\")\n"
   ]
  },
  {
   "cell_type": "code",
   "execution_count": null,
   "id": "0cdfdbbd",
   "metadata": {},
   "outputs": [],
   "source": []
  },
  {
   "cell_type": "code",
   "execution_count": null,
   "id": "8c1baece",
   "metadata": {},
   "outputs": [],
   "source": []
  },
  {
   "cell_type": "code",
   "execution_count": null,
   "id": "38fb44c7",
   "metadata": {},
   "outputs": [],
   "source": [
    "##############################################################################################################################"
   ]
  }
 ],
 "metadata": {
  "kernelspec": {
   "display_name": "Python 3 (ipykernel)",
   "language": "python",
   "name": "python3"
  },
  "language_info": {
   "codemirror_mode": {
    "name": "ipython",
    "version": 3
   },
   "file_extension": ".py",
   "mimetype": "text/x-python",
   "name": "python",
   "nbconvert_exporter": "python",
   "pygments_lexer": "ipython3",
   "version": "3.13.1"
  }
 },
 "nbformat": 4,
 "nbformat_minor": 5
}
